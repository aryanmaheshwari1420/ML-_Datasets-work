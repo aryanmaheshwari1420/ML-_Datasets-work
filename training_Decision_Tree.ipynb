{
 "cells": [
  {
   "cell_type": "code",
   "execution_count": 1,
   "id": "8d717802",
   "metadata": {},
   "outputs": [],
   "source": [
    "import pandas as pd\n",
    "import numpy as np\n",
    "from matplotlib import pyplot as plt\n",
    "import seaborn as sns\n",
    "from sklearn.model_selection import train_test_split\n",
    "import graphviz"
   ]
  },
  {
   "cell_type": "code",
   "execution_count": 2,
   "id": "71bdb1fc",
   "metadata": {},
   "outputs": [
    {
     "data": {
      "text/html": [
       "<div>\n",
       "<style scoped>\n",
       "    .dataframe tbody tr th:only-of-type {\n",
       "        vertical-align: middle;\n",
       "    }\n",
       "\n",
       "    .dataframe tbody tr th {\n",
       "        vertical-align: top;\n",
       "    }\n",
       "\n",
       "    .dataframe thead th {\n",
       "        text-align: right;\n",
       "    }\n",
       "</style>\n",
       "<table border=\"1\" class=\"dataframe\">\n",
       "  <thead>\n",
       "    <tr style=\"text-align: right;\">\n",
       "      <th></th>\n",
       "      <th>Class Name</th>\n",
       "      <th>Left weight</th>\n",
       "      <th>Left distance</th>\n",
       "      <th>Right weight</th>\n",
       "      <th>Right distance</th>\n",
       "    </tr>\n",
       "  </thead>\n",
       "  <tbody>\n",
       "    <tr>\n",
       "      <th>0</th>\n",
       "      <td>B</td>\n",
       "      <td>1</td>\n",
       "      <td>1</td>\n",
       "      <td>1</td>\n",
       "      <td>1</td>\n",
       "    </tr>\n",
       "    <tr>\n",
       "      <th>1</th>\n",
       "      <td>R</td>\n",
       "      <td>1</td>\n",
       "      <td>1</td>\n",
       "      <td>1</td>\n",
       "      <td>2</td>\n",
       "    </tr>\n",
       "    <tr>\n",
       "      <th>2</th>\n",
       "      <td>R</td>\n",
       "      <td>1</td>\n",
       "      <td>1</td>\n",
       "      <td>1</td>\n",
       "      <td>3</td>\n",
       "    </tr>\n",
       "    <tr>\n",
       "      <th>3</th>\n",
       "      <td>R</td>\n",
       "      <td>1</td>\n",
       "      <td>1</td>\n",
       "      <td>1</td>\n",
       "      <td>4</td>\n",
       "    </tr>\n",
       "    <tr>\n",
       "      <th>4</th>\n",
       "      <td>R</td>\n",
       "      <td>1</td>\n",
       "      <td>1</td>\n",
       "      <td>1</td>\n",
       "      <td>5</td>\n",
       "    </tr>\n",
       "  </tbody>\n",
       "</table>\n",
       "</div>"
      ],
      "text/plain": [
       "  Class Name  Left weight  Left distance  Right weight  Right distance\n",
       "0          B            1              1             1               1\n",
       "1          R            1              1             1               2\n",
       "2          R            1              1             1               3\n",
       "3          R            1              1             1               4\n",
       "4          R            1              1             1               5"
      ]
     },
     "execution_count": 2,
     "metadata": {},
     "output_type": "execute_result"
    }
   ],
   "source": [
    "col = ['Class Name','Left weight','Left distance','Right weight','Right distance']\n",
    "df = pd.read_csv(r'E:\\dataset_folder\\balance_scale.data',names=col,sep=',')\n",
    "df.head()"
   ]
  },
  {
   "cell_type": "code",
   "execution_count": 3,
   "id": "662f07a3",
   "metadata": {},
   "outputs": [
    {
     "name": "stdout",
     "output_type": "stream",
     "text": [
      "<class 'pandas.core.frame.DataFrame'>\n",
      "RangeIndex: 625 entries, 0 to 624\n",
      "Data columns (total 5 columns):\n",
      " #   Column          Non-Null Count  Dtype \n",
      "---  ------          --------------  ----- \n",
      " 0   Class Name      625 non-null    object\n",
      " 1   Left weight     625 non-null    int64 \n",
      " 2   Left distance   625 non-null    int64 \n",
      " 3   Right weight    625 non-null    int64 \n",
      " 4   Right distance  625 non-null    int64 \n",
      "dtypes: int64(4), object(1)\n",
      "memory usage: 24.5+ KB\n"
     ]
    }
   ],
   "source": [
    "df.info()"
   ]
  },
  {
   "cell_type": "code",
   "execution_count": 4,
   "id": "cad22998",
   "metadata": {},
   "outputs": [
    {
     "name": "stderr",
     "output_type": "stream",
     "text": [
      "C:\\Users\\Aryan Maheshwari\\anaconda3\\lib\\site-packages\\seaborn\\_decorators.py:36: FutureWarning: Pass the following variable as a keyword arg: x. From version 0.12, the only valid positional argument will be `data`, and passing other arguments without an explicit keyword will result in an error or misinterpretation.\n",
      "  warnings.warn(\n"
     ]
    },
    {
     "data": {
      "text/plain": [
       "<AxesSubplot:xlabel='Class Name', ylabel='count'>"
      ]
     },
     "execution_count": 4,
     "metadata": {},
     "output_type": "execute_result"
    },
    {
     "data": {
      "image/png": "[encoded data removed]",
      "text/plain": [
       "<Figure size 432x288 with 1 Axes>"
      ]
     },
     "metadata": {
      "needs_background": "light"
     },
     "output_type": "display_data"
    }
   ],
   "source": [
    "sns.countplot(df['Class Name'])"
   ]
  },
  {
   "cell_type": "code",
   "execution_count": 5,
   "id": "2b18c374",
   "metadata": {},
   "outputs": [
    {
     "name": "stderr",
     "output_type": "stream",
     "text": [
      "C:\\Users\\Aryan Maheshwari\\anaconda3\\lib\\site-packages\\seaborn\\_decorators.py:36: FutureWarning: Pass the following variable as a keyword arg: x. From version 0.12, the only valid positional argument will be `data`, and passing other arguments without an explicit keyword will result in an error or misinterpretation.\n",
      "  warnings.warn(\n"
     ]
    },
    {
     "data": {
      "text/plain": [
       "<AxesSubplot:xlabel='Left weight', ylabel='count'>"
      ]
     },
     "execution_count": 5,
     "metadata": {},
     "output_type": "execute_result"
    },
    {
     "data": {
      "image/png": "[encoded data removed]",
      "text/plain": [
       "<Figure size 432x288 with 1 Axes>"
      ]
     },
     "metadata": {
      "needs_background": "light"
     },
     "output_type": "display_data"
    }
   ],
   "source": [
    "sns.countplot(df['Left weight'],hue = df['Class Name'])"
   ]
  },
  {
   "cell_type": "code",
   "execution_count": 6,
   "id": "fc6a4099",
   "metadata": {},
   "outputs": [
    {
     "name": "stderr",
     "output_type": "stream",
     "text": [
      "C:\\Users\\Aryan Maheshwari\\anaconda3\\lib\\site-packages\\seaborn\\_decorators.py:36: FutureWarning: Pass the following variable as a keyword arg: x. From version 0.12, the only valid positional argument will be `data`, and passing other arguments without an explicit keyword will result in an error or misinterpretation.\n",
      "  warnings.warn(\n"
     ]
    },
    {
     "data": {
      "text/plain": [
       "<AxesSubplot:xlabel='Right weight', ylabel='count'>"
      ]
     },
     "execution_count": 6,
     "metadata": {},
     "output_type": "execute_result"
    },
    {
     "data": {
      "image/png": "[encoded data removed]",
      "text/plain": [
       "<Figure size 432x288 with 1 Axes>"
      ]
     },
     "metadata": {
      "needs_background": "light"
     },
     "output_type": "display_data"
    }
   ],
   "source": [
    "sns.countplot(df['Right weight'],hue = df['Class Name'])"
   ]
  },
  {
   "cell_type": "code",
   "execution_count": 7,
   "id": "279d814b",
   "metadata": {},
   "outputs": [],
   "source": [
    "from sklearn.model_selection import train_test_split\n",
    "x=df.drop('Class Name', axis=1)\n",
    "y=df[['Class Name']]\n",
    "x_train, x_test, y_train, y_test=train_test_split(x,y,test_size=0.3,random_state=42)"
   ]
  },
  {
   "cell_type": "code",
   "execution_count": 8,
   "id": "79f7088c",
   "metadata": {},
   "outputs": [
    {
     "data": {
      "text/plain": [
       "DecisionTreeClassifier(max_depth=3, random_state=42)"
      ]
     },
     "execution_count": 8,
     "metadata": {},
     "output_type": "execute_result"
    }
   ],
   "source": [
    "from sklearn.tree import DecisionTreeClassifier\n",
    "clf_model=DecisionTreeClassifier(criterion=\"gini\", random_state=42,max_depth=3)\n",
    "clf_model.fit(x_train,y_train)"
   ]
  },
  {
   "cell_type": "code",
   "execution_count": 9,
   "id": "6eb7f1c2",
   "metadata": {},
   "outputs": [],
   "source": [
    "y_predict = clf_model.predict(x_test)"
   ]
  },
  {
   "cell_type": "code",
   "execution_count": 10,
   "id": "93e92a36",
   "metadata": {},
   "outputs": [
    {
     "data": {
      "text/plain": [
       "0.7021276595744681"
      ]
     },
     "execution_count": 10,
     "metadata": {},
     "output_type": "execute_result"
    }
   ],
   "source": [
    "from sklearn.metrics import accuracy_score, classification_report, confusion_matrix\n",
    "accuracy_score(y_test,y_predict)"
   ]
  },
  {
   "cell_type": "code",
   "execution_count": 11,
   "id": "8d59c21b",
   "metadata": {},
   "outputs": [],
   "source": [
    "target = list(df['Class Name'].unique())\n",
    "feature_names = list(x.columns)"
   ]
  },
  {
   "cell_type": "code",
   "execution_count": 12,
   "id": "0c45fbb0",
   "metadata": {},
   "outputs": [
    {
     "data": {
      "image/svg+xml": [
       "<?xml version=\"1.0\" encoding=\"UTF-8\" standalone=\"no\"?>\n",
       "<!DOCTYPE svg PUBLIC \"-//W3C//DTD SVG 1.1//EN\"\n",
       " \"http://www.w3.org/Graphics/SVG/1.1/DTD/svg11.dtd\">\n",
       "<!-- Generated by graphviz version 2.50.0 (0)\n",
       " -->\n",
       "<!-- Title: Tree Pages: 1 -->\n",
       "<svg width=\"1096pt\" height=\"433pt\"\n",
       " viewBox=\"0.00 0.00 1095.50 433.00\" xmlns=\"http://www.w3.org/2000/svg\" xmlns:xlink=\"http://www.w3.org/1999/xlink\">\n",
       "<g id=\"graph0\" class=\"graph\" transform=\"scale(1 1) rotate(0) translate(4 429)\">\n",
       "<title>Tree</title>\n",
       "<polygon fill=\"white\" stroke=\"transparent\" points=\"-4,4 -4,-429 1091.5,-429 1091.5,4 -4,4\"/>\n",
       "<!-- 0 -->\n",
       "<g id=\"node1\" class=\"node\">\n",
       "<title>0</title>\n",
       "<path fill=\"#f7fefa\" stroke=\"black\" d=\"M586.5,-425C586.5,-425 463.5,-425 463.5,-425 457.5,-425 451.5,-419 451.5,-413 451.5,-413 451.5,-354 451.5,-354 451.5,-348 457.5,-342 463.5,-342 463.5,-342 586.5,-342 586.5,-342 592.5,-342 598.5,-348 598.5,-354 598.5,-354 598.5,-413 598.5,-413 598.5,-419 592.5,-425 586.5,-425\"/>\n",
       "<text text-anchor=\"start\" x=\"475\" y=\"-409.8\" font-family=\"Helvetica,sans-Serif\" font-size=\"14.00\">Left weight ≤ 2.5</text>\n",
       "<text text-anchor=\"start\" x=\"489.5\" y=\"-394.8\" font-family=\"Helvetica,sans-Serif\" font-size=\"14.00\">gini = 0.563</text>\n",
       "<text text-anchor=\"start\" x=\"480\" y=\"-379.8\" font-family=\"Helvetica,sans-Serif\" font-size=\"14.00\">samples = 437</text>\n",
       "<text text-anchor=\"start\" x=\"459.5\" y=\"-364.8\" font-family=\"Helvetica,sans-Serif\" font-size=\"14.00\">value = [31, 208, 198]</text>\n",
       "<text text-anchor=\"start\" x=\"496.5\" y=\"-349.8\" font-family=\"Helvetica,sans-Serif\" font-size=\"14.00\">class = R</text>\n",
       "</g>\n",
       "<!-- 1 -->\n",
       "<g id=\"node2\" class=\"node\">\n",
       "<title>1</title>\n",
       "<path fill=\"#b48af0\" stroke=\"black\" d=\"M447.5,-306C447.5,-306 332.5,-306 332.5,-306 326.5,-306 320.5,-300 320.5,-294 320.5,-294 320.5,-235 320.5,-235 320.5,-229 326.5,-223 332.5,-223 332.5,-223 447.5,-223 447.5,-223 453.5,-223 459.5,-229 459.5,-235 459.5,-235 459.5,-294 459.5,-294 459.5,-300 453.5,-306 447.5,-306\"/>\n",
       "<text text-anchor=\"start\" x=\"330\" y=\"-290.8\" font-family=\"Helvetica,sans-Serif\" font-size=\"14.00\">Right distance ≤ 1.5</text>\n",
       "<text text-anchor=\"start\" x=\"354.5\" y=\"-275.8\" font-family=\"Helvetica,sans-Serif\" font-size=\"14.00\">gini = 0.461</text>\n",
       "<text text-anchor=\"start\" x=\"345\" y=\"-260.8\" font-family=\"Helvetica,sans-Serif\" font-size=\"14.00\">samples = 171</text>\n",
       "<text text-anchor=\"start\" x=\"328.5\" y=\"-245.8\" font-family=\"Helvetica,sans-Serif\" font-size=\"14.00\">value = [12, 41, 118]</text>\n",
       "<text text-anchor=\"start\" x=\"362.5\" y=\"-230.8\" font-family=\"Helvetica,sans-Serif\" font-size=\"14.00\">class = L</text>\n",
       "</g>\n",
       "<!-- 0&#45;&gt;1 -->\n",
       "<g id=\"edge1\" class=\"edge\">\n",
       "<title>0&#45;&gt;1</title>\n",
       "<path fill=\"none\" stroke=\"black\" d=\"M478.16,-341.91C467.27,-332.47 455.59,-322.34 444.4,-312.65\"/>\n",
       "<polygon fill=\"black\" stroke=\"black\" points=\"446.6,-309.93 436.75,-306.02 442.02,-315.22 446.6,-309.93\"/>\n",
       "<text text-anchor=\"middle\" x=\"438.54\" y=\"-327.26\" font-family=\"Helvetica,sans-Serif\" font-size=\"14.00\">True</text>\n",
       "</g>\n",
       "<!-- 8 -->\n",
       "<g id=\"node9\" class=\"node\">\n",
       "<title>8</title>\n",
       "<path fill=\"#a2f3c4\" stroke=\"black\" d=\"M727,-306C727,-306 611,-306 611,-306 605,-306 599,-300 599,-294 599,-294 599,-235 599,-235 599,-229 605,-223 611,-223 611,-223 727,-223 727,-223 733,-223 739,-229 739,-235 739,-235 739,-294 739,-294 739,-300 733,-306 727,-306\"/>\n",
       "<text text-anchor=\"start\" x=\"613.5\" y=\"-290.8\" font-family=\"Helvetica,sans-Serif\" font-size=\"14.00\">Left distance ≤ 2.5</text>\n",
       "<text text-anchor=\"start\" x=\"637\" y=\"-275.8\" font-family=\"Helvetica,sans-Serif\" font-size=\"14.00\">gini = 0.51</text>\n",
       "<text text-anchor=\"start\" x=\"624\" y=\"-260.8\" font-family=\"Helvetica,sans-Serif\" font-size=\"14.00\">samples = 266</text>\n",
       "<text text-anchor=\"start\" x=\"607\" y=\"-245.8\" font-family=\"Helvetica,sans-Serif\" font-size=\"14.00\">value = [19, 167, 80]</text>\n",
       "<text text-anchor=\"start\" x=\"640.5\" y=\"-230.8\" font-family=\"Helvetica,sans-Serif\" font-size=\"14.00\">class = R</text>\n",
       "</g>\n",
       "<!-- 0&#45;&gt;8 -->\n",
       "<g id=\"edge8\" class=\"edge\">\n",
       "<title>0&#45;&gt;8</title>\n",
       "<path fill=\"none\" stroke=\"black\" d=\"M574.96,-341.91C586.69,-332.38 599.28,-322.15 611.31,-312.37\"/>\n",
       "<polygon fill=\"black\" stroke=\"black\" points=\"613.57,-315.04 619.13,-306.02 609.16,-309.61 613.57,-315.04\"/>\n",
       "<text text-anchor=\"middle\" x=\"616.56\" y=\"-327.19\" font-family=\"Helvetica,sans-Serif\" font-size=\"14.00\">False</text>\n",
       "</g>\n",
       "<!-- 2 -->\n",
       "<g id=\"node3\" class=\"node\">\n",
       "<title>2</title>\n",
       "<path fill=\"#94f1bb\" stroke=\"black\" d=\"M238.5,-187C238.5,-187 135.5,-187 135.5,-187 129.5,-187 123.5,-181 123.5,-175 123.5,-175 123.5,-116 123.5,-116 123.5,-110 129.5,-104 135.5,-104 135.5,-104 238.5,-104 238.5,-104 244.5,-104 250.5,-110 250.5,-116 250.5,-116 250.5,-175 250.5,-175 250.5,-181 244.5,-187 238.5,-187\"/>\n",
       "<text text-anchor=\"start\" x=\"131.5\" y=\"-171.8\" font-family=\"Helvetica,sans-Serif\" font-size=\"14.00\">Left distance ≤ 2.5</text>\n",
       "<text text-anchor=\"start\" x=\"151.5\" y=\"-156.8\" font-family=\"Helvetica,sans-Serif\" font-size=\"14.00\">gini = 0.498</text>\n",
       "<text text-anchor=\"start\" x=\"146\" y=\"-141.8\" font-family=\"Helvetica,sans-Serif\" font-size=\"14.00\">samples = 32</text>\n",
       "<text text-anchor=\"start\" x=\"136.5\" y=\"-126.8\" font-family=\"Helvetica,sans-Serif\" font-size=\"14.00\">value = [3, 21, 8]</text>\n",
       "<text text-anchor=\"start\" x=\"158.5\" y=\"-111.8\" font-family=\"Helvetica,sans-Serif\" font-size=\"14.00\">class = R</text>\n",
       "</g>\n",
       "<!-- 1&#45;&gt;2 -->\n",
       "<g id=\"edge2\" class=\"edge\">\n",
       "<title>1&#45;&gt;2</title>\n",
       "<path fill=\"none\" stroke=\"black\" d=\"M320.42,-223.4C300.73,-212.05 279.25,-199.67 259.39,-188.22\"/>\n",
       "<polygon fill=\"black\" stroke=\"black\" points=\"261.1,-185.17 250.69,-183.21 257.61,-191.23 261.1,-185.17\"/>\n",
       "</g>\n",
       "<!-- 5 -->\n",
       "<g id=\"node6\" class=\"node\">\n",
       "<title>5</title>\n",
       "<path fill=\"#a069eb\" stroke=\"black\" d=\"M443.5,-187C443.5,-187 336.5,-187 336.5,-187 330.5,-187 324.5,-181 324.5,-175 324.5,-175 324.5,-116 324.5,-116 324.5,-110 330.5,-104 336.5,-104 336.5,-104 443.5,-104 443.5,-104 449.5,-104 455.5,-110 455.5,-116 455.5,-116 455.5,-175 455.5,-175 455.5,-181 449.5,-187 443.5,-187\"/>\n",
       "<text text-anchor=\"start\" x=\"335.5\" y=\"-171.8\" font-family=\"Helvetica,sans-Serif\" font-size=\"14.00\">Right weight ≤ 2.5</text>\n",
       "<text text-anchor=\"start\" x=\"354.5\" y=\"-156.8\" font-family=\"Helvetica,sans-Serif\" font-size=\"14.00\">gini = 0.349</text>\n",
       "<text text-anchor=\"start\" x=\"345\" y=\"-141.8\" font-family=\"Helvetica,sans-Serif\" font-size=\"14.00\">samples = 139</text>\n",
       "<text text-anchor=\"start\" x=\"332.5\" y=\"-126.8\" font-family=\"Helvetica,sans-Serif\" font-size=\"14.00\">value = [9, 20, 110]</text>\n",
       "<text text-anchor=\"start\" x=\"362.5\" y=\"-111.8\" font-family=\"Helvetica,sans-Serif\" font-size=\"14.00\">class = L</text>\n",
       "</g>\n",
       "<!-- 1&#45;&gt;5 -->\n",
       "<g id=\"edge5\" class=\"edge\">\n",
       "<title>1&#45;&gt;5</title>\n",
       "<path fill=\"none\" stroke=\"black\" d=\"M390,-222.91C390,-214.65 390,-205.86 390,-197.3\"/>\n",
       "<polygon fill=\"black\" stroke=\"black\" points=\"393.5,-197.02 390,-187.02 386.5,-197.02 393.5,-197.02\"/>\n",
       "</g>\n",
       "<!-- 3 -->\n",
       "<g id=\"node4\" class=\"node\">\n",
       "<title>3</title>\n",
       "<path fill=\"#e0cef8\" stroke=\"black\" d=\"M98,-68C98,-68 12,-68 12,-68 6,-68 0,-62 0,-56 0,-56 0,-12 0,-12 0,-6 6,0 12,0 12,0 98,0 98,0 104,0 110,-6 110,-12 110,-12 110,-56 110,-56 110,-62 104,-68 98,-68\"/>\n",
       "<text text-anchor=\"start\" x=\"20\" y=\"-52.8\" font-family=\"Helvetica,sans-Serif\" font-size=\"14.00\">gini = 0.611</text>\n",
       "<text text-anchor=\"start\" x=\"14\" y=\"-37.8\" font-family=\"Helvetica,sans-Serif\" font-size=\"14.00\">samples = 12</text>\n",
       "<text text-anchor=\"start\" x=\"8\" y=\"-22.8\" font-family=\"Helvetica,sans-Serif\" font-size=\"14.00\">value = [2, 4, 6]</text>\n",
       "<text text-anchor=\"start\" x=\"27.5\" y=\"-7.8\" font-family=\"Helvetica,sans-Serif\" font-size=\"14.00\">class = L</text>\n",
       "</g>\n",
       "<!-- 2&#45;&gt;3 -->\n",
       "<g id=\"edge3\" class=\"edge\">\n",
       "<title>2&#45;&gt;3</title>\n",
       "<path fill=\"none\" stroke=\"black\" d=\"M137.85,-103.73C126.41,-94.24 114.26,-84.16 102.88,-74.72\"/>\n",
       "<polygon fill=\"black\" stroke=\"black\" points=\"105.07,-71.99 95.14,-68.3 100.6,-77.38 105.07,-71.99\"/>\n",
       "</g>\n",
       "<!-- 4 -->\n",
       "<g id=\"node5\" class=\"node\">\n",
       "<title>4</title>\n",
       "<path fill=\"#5ae996\" stroke=\"black\" d=\"M233.5,-68C233.5,-68 140.5,-68 140.5,-68 134.5,-68 128.5,-62 128.5,-56 128.5,-56 128.5,-12 128.5,-12 128.5,-6 134.5,0 140.5,0 140.5,0 233.5,0 233.5,0 239.5,0 245.5,-6 245.5,-12 245.5,-12 245.5,-56 245.5,-56 245.5,-62 239.5,-68 233.5,-68\"/>\n",
       "<text text-anchor=\"start\" x=\"151.5\" y=\"-52.8\" font-family=\"Helvetica,sans-Serif\" font-size=\"14.00\">gini = 0.265</text>\n",
       "<text text-anchor=\"start\" x=\"146\" y=\"-37.8\" font-family=\"Helvetica,sans-Serif\" font-size=\"14.00\">samples = 20</text>\n",
       "<text text-anchor=\"start\" x=\"136.5\" y=\"-22.8\" font-family=\"Helvetica,sans-Serif\" font-size=\"14.00\">value = [1, 17, 2]</text>\n",
       "<text text-anchor=\"start\" x=\"158.5\" y=\"-7.8\" font-family=\"Helvetica,sans-Serif\" font-size=\"14.00\">class = R</text>\n",
       "</g>\n",
       "<!-- 2&#45;&gt;4 -->\n",
       "<g id=\"edge4\" class=\"edge\">\n",
       "<title>2&#45;&gt;4</title>\n",
       "<path fill=\"none\" stroke=\"black\" d=\"M187,-103.73C187,-95.52 187,-86.86 187,-78.56\"/>\n",
       "<polygon fill=\"black\" stroke=\"black\" points=\"190.5,-78.3 187,-68.3 183.5,-78.3 190.5,-78.3\"/>\n",
       "</g>\n",
       "<!-- 6 -->\n",
       "<g id=\"node7\" class=\"node\">\n",
       "<title>6</title>\n",
       "<path fill=\"#dcc7f8\" stroke=\"black\" d=\"M376.5,-68C376.5,-68 275.5,-68 275.5,-68 269.5,-68 263.5,-62 263.5,-56 263.5,-56 263.5,-12 263.5,-12 263.5,-6 269.5,0 275.5,0 275.5,0 376.5,0 376.5,0 382.5,0 388.5,-6 388.5,-12 388.5,-12 388.5,-56 388.5,-56 388.5,-62 382.5,-68 376.5,-68\"/>\n",
       "<text text-anchor=\"start\" x=\"290.5\" y=\"-52.8\" font-family=\"Helvetica,sans-Serif\" font-size=\"14.00\">gini = 0.583</text>\n",
       "<text text-anchor=\"start\" x=\"285\" y=\"-37.8\" font-family=\"Helvetica,sans-Serif\" font-size=\"14.00\">samples = 49</text>\n",
       "<text text-anchor=\"start\" x=\"271.5\" y=\"-22.8\" font-family=\"Helvetica,sans-Serif\" font-size=\"14.00\">value = [6, 17, 26]</text>\n",
       "<text text-anchor=\"start\" x=\"298.5\" y=\"-7.8\" font-family=\"Helvetica,sans-Serif\" font-size=\"14.00\">class = L</text>\n",
       "</g>\n",
       "<!-- 5&#45;&gt;6 -->\n",
       "<g id=\"edge6\" class=\"edge\">\n",
       "<title>5&#45;&gt;6</title>\n",
       "<path fill=\"none\" stroke=\"black\" d=\"M366.17,-103.73C361.1,-95.06 355.75,-85.9 350.65,-77.18\"/>\n",
       "<polygon fill=\"black\" stroke=\"black\" points=\"353.53,-75.17 345.46,-68.3 347.49,-78.7 353.53,-75.17\"/>\n",
       "</g>\n",
       "<!-- 7 -->\n",
       "<g id=\"node8\" class=\"node\">\n",
       "<title>7</title>\n",
       "<path fill=\"#8a47e7\" stroke=\"black\" d=\"M511.5,-68C511.5,-68 418.5,-68 418.5,-68 412.5,-68 406.5,-62 406.5,-56 406.5,-56 406.5,-12 406.5,-12 406.5,-6 412.5,0 418.5,0 418.5,0 511.5,0 511.5,0 517.5,0 523.5,-6 523.5,-12 523.5,-12 523.5,-56 523.5,-56 523.5,-62 517.5,-68 511.5,-68\"/>\n",
       "<text text-anchor=\"start\" x=\"429.5\" y=\"-52.8\" font-family=\"Helvetica,sans-Serif\" font-size=\"14.00\">gini = 0.127</text>\n",
       "<text text-anchor=\"start\" x=\"424\" y=\"-37.8\" font-family=\"Helvetica,sans-Serif\" font-size=\"14.00\">samples = 90</text>\n",
       "<text text-anchor=\"start\" x=\"414.5\" y=\"-22.8\" font-family=\"Helvetica,sans-Serif\" font-size=\"14.00\">value = [3, 3, 84]</text>\n",
       "<text text-anchor=\"start\" x=\"437.5\" y=\"-7.8\" font-family=\"Helvetica,sans-Serif\" font-size=\"14.00\">class = L</text>\n",
       "</g>\n",
       "<!-- 5&#45;&gt;7 -->\n",
       "<g id=\"edge7\" class=\"edge\">\n",
       "<title>5&#45;&gt;7</title>\n",
       "<path fill=\"none\" stroke=\"black\" d=\"M417.93,-103.73C423.99,-94.88 430.4,-85.51 436.49,-76.63\"/>\n",
       "<polygon fill=\"black\" stroke=\"black\" points=\"439.43,-78.53 442.19,-68.3 433.65,-74.57 439.43,-78.53\"/>\n",
       "</g>\n",
       "<!-- 9 -->\n",
       "<g id=\"node10\" class=\"node\">\n",
       "<title>9</title>\n",
       "<path fill=\"#dac5f7\" stroke=\"black\" d=\"M719.5,-187C719.5,-187 618.5,-187 618.5,-187 612.5,-187 606.5,-181 606.5,-175 606.5,-175 606.5,-116 606.5,-116 606.5,-110 612.5,-104 618.5,-104 618.5,-104 719.5,-104 719.5,-104 725.5,-104 731.5,-110 731.5,-116 731.5,-116 731.5,-175 731.5,-175 731.5,-181 725.5,-187 719.5,-187\"/>\n",
       "<text text-anchor=\"start\" x=\"614.5\" y=\"-171.8\" font-family=\"Helvetica,sans-Serif\" font-size=\"14.00\">Right weight ≤ 2.5</text>\n",
       "<text text-anchor=\"start\" x=\"633.5\" y=\"-156.8\" font-family=\"Helvetica,sans-Serif\" font-size=\"14.00\">gini = 0.544</text>\n",
       "<text text-anchor=\"start\" x=\"624\" y=\"-141.8\" font-family=\"Helvetica,sans-Serif\" font-size=\"14.00\">samples = 104</text>\n",
       "<text text-anchor=\"start\" x=\"614.5\" y=\"-126.8\" font-family=\"Helvetica,sans-Serif\" font-size=\"14.00\">value = [7, 39, 58]</text>\n",
       "<text text-anchor=\"start\" x=\"641.5\" y=\"-111.8\" font-family=\"Helvetica,sans-Serif\" font-size=\"14.00\">class = L</text>\n",
       "</g>\n",
       "<!-- 8&#45;&gt;9 -->\n",
       "<g id=\"edge9\" class=\"edge\">\n",
       "<title>8&#45;&gt;9</title>\n",
       "<path fill=\"none\" stroke=\"black\" d=\"M669,-222.91C669,-214.65 669,-205.86 669,-197.3\"/>\n",
       "<polygon fill=\"black\" stroke=\"black\" points=\"672.5,-197.02 669,-187.02 665.5,-197.02 672.5,-197.02\"/>\n",
       "</g>\n",
       "<!-- 12 -->\n",
       "<g id=\"node13\" class=\"node\">\n",
       "<title>12</title>\n",
       "<path fill=\"#69eba0\" stroke=\"black\" d=\"M944,-187C944,-187 828,-187 828,-187 822,-187 816,-181 816,-175 816,-175 816,-116 816,-116 816,-110 822,-104 828,-104 828,-104 944,-104 944,-104 950,-104 956,-110 956,-116 956,-116 956,-175 956,-175 956,-181 950,-187 944,-187\"/>\n",
       "<text text-anchor=\"start\" x=\"826\" y=\"-171.8\" font-family=\"Helvetica,sans-Serif\" font-size=\"14.00\">Right distance ≤ 3.5</text>\n",
       "<text text-anchor=\"start\" x=\"850.5\" y=\"-156.8\" font-family=\"Helvetica,sans-Serif\" font-size=\"14.00\">gini = 0.352</text>\n",
       "<text text-anchor=\"start\" x=\"841\" y=\"-141.8\" font-family=\"Helvetica,sans-Serif\" font-size=\"14.00\">samples = 162</text>\n",
       "<text text-anchor=\"start\" x=\"824\" y=\"-126.8\" font-family=\"Helvetica,sans-Serif\" font-size=\"14.00\">value = [12, 128, 22]</text>\n",
       "<text text-anchor=\"start\" x=\"857.5\" y=\"-111.8\" font-family=\"Helvetica,sans-Serif\" font-size=\"14.00\">class = R</text>\n",
       "</g>\n",
       "<!-- 8&#45;&gt;12 -->\n",
       "<g id=\"edge12\" class=\"edge\">\n",
       "<title>8&#45;&gt;12</title>\n",
       "<path fill=\"none\" stroke=\"black\" d=\"M739.15,-225.68C760.7,-214.06 784.57,-201.19 806.68,-189.26\"/>\n",
       "<polygon fill=\"black\" stroke=\"black\" points=\"808.58,-192.22 815.72,-184.4 805.25,-186.06 808.58,-192.22\"/>\n",
       "</g>\n",
       "<!-- 10 -->\n",
       "<g id=\"node11\" class=\"node\">\n",
       "<title>10</title>\n",
       "<path fill=\"#8df0b6\" stroke=\"black\" d=\"M654.5,-68C654.5,-68 553.5,-68 553.5,-68 547.5,-68 541.5,-62 541.5,-56 541.5,-56 541.5,-12 541.5,-12 541.5,-6 547.5,0 553.5,0 553.5,0 654.5,0 654.5,0 660.5,0 666.5,-6 666.5,-12 666.5,-12 666.5,-56 666.5,-56 666.5,-62 660.5,-68 654.5,-68\"/>\n",
       "<text text-anchor=\"start\" x=\"568.5\" y=\"-52.8\" font-family=\"Helvetica,sans-Serif\" font-size=\"14.00\">gini = 0.482</text>\n",
       "<text text-anchor=\"start\" x=\"563\" y=\"-37.8\" font-family=\"Helvetica,sans-Serif\" font-size=\"14.00\">samples = 43</text>\n",
       "<text text-anchor=\"start\" x=\"549.5\" y=\"-22.8\" font-family=\"Helvetica,sans-Serif\" font-size=\"14.00\">value = [4, 29, 10]</text>\n",
       "<text text-anchor=\"start\" x=\"575.5\" y=\"-7.8\" font-family=\"Helvetica,sans-Serif\" font-size=\"14.00\">class = R</text>\n",
       "</g>\n",
       "<!-- 9&#45;&gt;10 -->\n",
       "<g id=\"edge10\" class=\"edge\">\n",
       "<title>9&#45;&gt;10</title>\n",
       "<path fill=\"none\" stroke=\"black\" d=\"M644.8,-103.73C639.6,-94.97 634.1,-85.7 628.88,-76.91\"/>\n",
       "<polygon fill=\"black\" stroke=\"black\" points=\"631.88,-75.11 623.77,-68.3 625.86,-78.69 631.88,-75.11\"/>\n",
       "</g>\n",
       "<!-- 11 -->\n",
       "<g id=\"node12\" class=\"node\">\n",
       "<title>11</title>\n",
       "<path fill=\"#a16bec\" stroke=\"black\" d=\"M797.5,-68C797.5,-68 696.5,-68 696.5,-68 690.5,-68 684.5,-62 684.5,-56 684.5,-56 684.5,-12 684.5,-12 684.5,-6 690.5,0 696.5,0 696.5,0 797.5,0 797.5,0 803.5,0 809.5,-6 809.5,-12 809.5,-12 809.5,-56 809.5,-56 809.5,-62 803.5,-68 797.5,-68\"/>\n",
       "<text text-anchor=\"start\" x=\"711.5\" y=\"-52.8\" font-family=\"Helvetica,sans-Serif\" font-size=\"14.00\">gini = 0.352</text>\n",
       "<text text-anchor=\"start\" x=\"706\" y=\"-37.8\" font-family=\"Helvetica,sans-Serif\" font-size=\"14.00\">samples = 61</text>\n",
       "<text text-anchor=\"start\" x=\"692.5\" y=\"-22.8\" font-family=\"Helvetica,sans-Serif\" font-size=\"14.00\">value = [3, 10, 48]</text>\n",
       "<text text-anchor=\"start\" x=\"719.5\" y=\"-7.8\" font-family=\"Helvetica,sans-Serif\" font-size=\"14.00\">class = L</text>\n",
       "</g>\n",
       "<!-- 9&#45;&gt;11 -->\n",
       "<g id=\"edge11\" class=\"edge\">\n",
       "<title>9&#45;&gt;11</title>\n",
       "<path fill=\"none\" stroke=\"black\" d=\"M698.04,-103.73C704.35,-94.88 711.02,-85.51 717.35,-76.63\"/>\n",
       "<polygon fill=\"black\" stroke=\"black\" points=\"720.33,-78.48 723.28,-68.3 714.63,-74.41 720.33,-78.48\"/>\n",
       "</g>\n",
       "<!-- 13 -->\n",
       "<g id=\"node14\" class=\"node\">\n",
       "<title>13</title>\n",
       "<path fill=\"#47e78a\" stroke=\"black\" d=\"M932.5,-68C932.5,-68 839.5,-68 839.5,-68 833.5,-68 827.5,-62 827.5,-56 827.5,-56 827.5,-12 827.5,-12 827.5,-6 833.5,0 839.5,0 839.5,0 932.5,0 932.5,0 938.5,0 944.5,-6 944.5,-12 944.5,-12 944.5,-56 944.5,-56 944.5,-62 938.5,-68 932.5,-68\"/>\n",
       "<text text-anchor=\"start\" x=\"850.5\" y=\"-52.8\" font-family=\"Helvetica,sans-Serif\" font-size=\"14.00\">gini = 0.133</text>\n",
       "<text text-anchor=\"start\" x=\"841\" y=\"-37.8\" font-family=\"Helvetica,sans-Serif\" font-size=\"14.00\">samples = 100</text>\n",
       "<text text-anchor=\"start\" x=\"835.5\" y=\"-22.8\" font-family=\"Helvetica,sans-Serif\" font-size=\"14.00\">value = [4, 93, 3]</text>\n",
       "<text text-anchor=\"start\" x=\"857.5\" y=\"-7.8\" font-family=\"Helvetica,sans-Serif\" font-size=\"14.00\">class = R</text>\n",
       "</g>\n",
       "<!-- 12&#45;&gt;13 -->\n",
       "<g id=\"edge13\" class=\"edge\">\n",
       "<title>12&#45;&gt;13</title>\n",
       "<path fill=\"none\" stroke=\"black\" d=\"M886,-103.73C886,-95.52 886,-86.86 886,-78.56\"/>\n",
       "<polygon fill=\"black\" stroke=\"black\" points=\"889.5,-78.3 886,-68.3 882.5,-78.3 889.5,-78.3\"/>\n",
       "</g>\n",
       "<!-- 14 -->\n",
       "<g id=\"node15\" class=\"node\">\n",
       "<title>14</title>\n",
       "<path fill=\"#b5f5d0\" stroke=\"black\" d=\"M1075.5,-68C1075.5,-68 974.5,-68 974.5,-68 968.5,-68 962.5,-62 962.5,-56 962.5,-56 962.5,-12 962.5,-12 962.5,-6 968.5,0 974.5,0 974.5,0 1075.5,0 1075.5,0 1081.5,0 1087.5,-6 1087.5,-12 1087.5,-12 1087.5,-56 1087.5,-56 1087.5,-62 1081.5,-68 1075.5,-68\"/>\n",
       "<text text-anchor=\"start\" x=\"989.5\" y=\"-52.8\" font-family=\"Helvetica,sans-Serif\" font-size=\"14.00\">gini = 0.571</text>\n",
       "<text text-anchor=\"start\" x=\"984\" y=\"-37.8\" font-family=\"Helvetica,sans-Serif\" font-size=\"14.00\">samples = 62</text>\n",
       "<text text-anchor=\"start\" x=\"970.5\" y=\"-22.8\" font-family=\"Helvetica,sans-Serif\" font-size=\"14.00\">value = [8, 35, 19]</text>\n",
       "<text text-anchor=\"start\" x=\"996.5\" y=\"-7.8\" font-family=\"Helvetica,sans-Serif\" font-size=\"14.00\">class = R</text>\n",
       "</g>\n",
       "<!-- 12&#45;&gt;14 -->\n",
       "<g id=\"edge14\" class=\"edge\">\n",
       "<title>12&#45;&gt;14</title>\n",
       "<path fill=\"none\" stroke=\"black\" d=\"M937.76,-103.73C949.8,-94.24 962.6,-84.16 974.58,-74.72\"/>\n",
       "<polygon fill=\"black\" stroke=\"black\" points=\"977.04,-77.24 982.73,-68.3 972.71,-71.74 977.04,-77.24\"/>\n",
       "</g>\n",
       "</g>\n",
       "</svg>\n"
      ],
      "text/plain": [
       "<graphviz.sources.Source at 0x1d9594857c0>"
      ]
     },
     "execution_count": 12,
     "metadata": {},
     "output_type": "execute_result"
    }
   ],
   "source": [
    "from sklearn import tree\n",
    "dot_data=tree.export_graphviz(clf_model, out_file=None, feature_names=feature_names,class_names=target,filled=True, rounded=True,special_characters=True)\n",
    "graph=graphviz.Source(dot_data)\n",
    "graph"
   ]
  },
  {
   "cell_type": "code",
   "execution_count": null,
   "id": "9224f178",
   "metadata": {},
   "outputs": [],
   "source": []
  }
 ],
 "metadata": {
  "kernelspec": {
   "display_name": "Python 3",
   "language": "python",
   "name": "python3"
  },
  "language_info": {
   "codemirror_mode": {
    "name": "ipython",
    "version": 3
   },
   "file_extension": ".py",
   "mimetype": "text/x-python",
   "name": "python",
   "nbconvert_exporter": "python",
   "pygments_lexer": "ipython3",
   "version": "3.8.8"
  }
 },
 "nbformat": 4,
 "nbformat_minor": 5
}
