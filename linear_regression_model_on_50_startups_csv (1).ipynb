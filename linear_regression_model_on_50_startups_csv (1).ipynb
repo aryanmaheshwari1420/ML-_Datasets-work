{
  "nbformat": 4,
  "nbformat_minor": 0,
  "metadata": {
    "colab": {
      "name": "linear regression model on 50_startups.csv",
      "provenance": [],
      "collapsed_sections": []
    },
    "kernelspec": {
      "name": "python3",
      "display_name": "Python 3"
    },
    "language_info": {
      "name": "python"
    }
  },
  "cells": [
    {
      "cell_type": "code",
      "metadata": {
        "id": "bI0LZMIXVOgS"
      },
      "source": [
        "import numpy as np\n",
        "import pandas as pd\n",
        "from matplotlib import pyplot as plt\n",
        "from sklearn.metrics import mean_squared_error\n",
        "from sklearn.linear_model import LinearRegression\n",
        "from sklearn.preprocessing import OneHotEncoder "
      ],
      "execution_count": null,
      "outputs": []
    },
    {
      "cell_type": "code",
      "metadata": {
        "id": "X68xVSiKVPO7"
      },
      "source": [
        "data = pd.read_csv(\"50_Startups.csv\")"
      ],
      "execution_count": null,
      "outputs": []
    },
    {
      "cell_type": "code",
      "metadata": {
        "colab": {
          "base_uri": "https://localhost:8080/",
          "height": 206
        },
        "id": "OJydc2nyVPT5",
        "outputId": "8a870d10-3206-4404-8f3b-1c96e889c0e4"
      },
      "source": [
        "data.head()"
      ],
      "execution_count": null,
      "outputs": [
        {
          "output_type": "execute_result",
          "data": {
            "text/html": [
              "<div>\n",
              "<style scoped>\n",
              "    .dataframe tbody tr th:only-of-type {\n",
              "        vertical-align: middle;\n",
              "    }\n",
              "\n",
              "    .dataframe tbody tr th {\n",
              "        vertical-align: top;\n",
              "    }\n",
              "\n",
              "    .dataframe thead th {\n",
              "        text-align: right;\n",
              "    }\n",
              "</style>\n",
              "<table border=\"1\" class=\"dataframe\">\n",
              "  <thead>\n",
              "    <tr style=\"text-align: right;\">\n",
              "      <th></th>\n",
              "      <th>R&amp;D Spend</th>\n",
              "      <th>Administration</th>\n",
              "      <th>Marketing Spend</th>\n",
              "      <th>State</th>\n",
              "      <th>Profit</th>\n",
              "    </tr>\n",
              "  </thead>\n",
              "  <tbody>\n",
              "    <tr>\n",
              "      <th>0</th>\n",
              "      <td>165349.20</td>\n",
              "      <td>136897.80</td>\n",
              "      <td>471784.10</td>\n",
              "      <td>New York</td>\n",
              "      <td>192261.83</td>\n",
              "    </tr>\n",
              "    <tr>\n",
              "      <th>1</th>\n",
              "      <td>162597.70</td>\n",
              "      <td>151377.59</td>\n",
              "      <td>443898.53</td>\n",
              "      <td>California</td>\n",
              "      <td>191792.06</td>\n",
              "    </tr>\n",
              "    <tr>\n",
              "      <th>2</th>\n",
              "      <td>153441.51</td>\n",
              "      <td>101145.55</td>\n",
              "      <td>407934.54</td>\n",
              "      <td>Florida</td>\n",
              "      <td>191050.39</td>\n",
              "    </tr>\n",
              "    <tr>\n",
              "      <th>3</th>\n",
              "      <td>144372.41</td>\n",
              "      <td>118671.85</td>\n",
              "      <td>383199.62</td>\n",
              "      <td>New York</td>\n",
              "      <td>182901.99</td>\n",
              "    </tr>\n",
              "    <tr>\n",
              "      <th>4</th>\n",
              "      <td>142107.34</td>\n",
              "      <td>91391.77</td>\n",
              "      <td>366168.42</td>\n",
              "      <td>Florida</td>\n",
              "      <td>166187.94</td>\n",
              "    </tr>\n",
              "  </tbody>\n",
              "</table>\n",
              "</div>"
            ],
            "text/plain": [
              "   R&D Spend  Administration  Marketing Spend       State     Profit\n",
              "0  165349.20       136897.80        471784.10    New York  192261.83\n",
              "1  162597.70       151377.59        443898.53  California  191792.06\n",
              "2  153441.51       101145.55        407934.54     Florida  191050.39\n",
              "3  144372.41       118671.85        383199.62    New York  182901.99\n",
              "4  142107.34        91391.77        366168.42     Florida  166187.94"
            ]
          },
          "metadata": {},
          "execution_count": 113
        }
      ]
    },
    {
      "cell_type": "code",
      "metadata": {
        "colab": {
          "base_uri": "https://localhost:8080/"
        },
        "id": "mOvKUI8gVPWh",
        "outputId": "d18e1f03-1d32-4dd6-a052-7f770066ec25"
      },
      "source": [
        "one_hot_encoded_data = pd.get_dummies(data,columns = [\"State\"])\n",
        "x=one_hot_encoded_data.drop([\"Profit\"],axis=1)\n",
        "y=one_hot_encoded_data[[\"Profit\"]]\n",
        "print(y)"
      ],
      "execution_count": null,
      "outputs": [
        {
          "output_type": "stream",
          "name": "stdout",
          "text": [
            "       Profit\n",
            "0   192261.83\n",
            "1   191792.06\n",
            "2   191050.39\n",
            "3   182901.99\n",
            "4   166187.94\n",
            "5   156991.12\n",
            "6   156122.51\n",
            "7   155752.60\n",
            "8   152211.77\n",
            "9   149759.96\n",
            "10  146121.95\n",
            "11  144259.40\n",
            "12  141585.52\n",
            "13  134307.35\n",
            "14  132602.65\n",
            "15  129917.04\n",
            "16  126992.93\n",
            "17  125370.37\n",
            "18  124266.90\n",
            "19  122776.86\n",
            "20  118474.03\n",
            "21  111313.02\n",
            "22  110352.25\n",
            "23  108733.99\n",
            "24  108552.04\n",
            "25  107404.34\n",
            "26  105733.54\n",
            "27  105008.31\n",
            "28  103282.38\n",
            "29  101004.64\n",
            "30   99937.59\n",
            "31   97483.56\n",
            "32   97427.84\n",
            "33   96778.92\n",
            "34   96712.80\n",
            "35   96479.51\n",
            "36   90708.19\n",
            "37   89949.14\n",
            "38   81229.06\n",
            "39   81005.76\n",
            "40   78239.91\n",
            "41   77798.83\n",
            "42   71498.49\n",
            "43   69758.98\n",
            "44   65200.33\n",
            "45   64926.08\n",
            "46   49490.75\n",
            "47   42559.73\n",
            "48   35673.41\n",
            "49   14681.40\n"
          ]
        }
      ]
    },
    {
      "cell_type": "code",
      "metadata": {
        "id": "fRkmcsh5VPc5"
      },
      "source": [
        "from sklearn.model_selection import train_test_split\n",
        "x_train , x_test , y_train ,y_test = train_test_split(x,y,test_size=0.2, random_state=42)"
      ],
      "execution_count": null,
      "outputs": []
    },
    {
      "cell_type": "code",
      "metadata": {
        "colab": {
          "base_uri": "https://localhost:8080/",
          "height": 1000
        },
        "id": "DWMvM4GGW7Ji",
        "outputId": "9bbc7846-1a09-497d-fe52-8fa7a9a87cd7"
      },
      "source": [
        "x_train\n",
        "y_train"
      ],
      "execution_count": null,
      "outputs": [
        {
          "output_type": "execute_result",
          "data": {
            "text/html": [
              "<div>\n",
              "<style scoped>\n",
              "    .dataframe tbody tr th:only-of-type {\n",
              "        vertical-align: middle;\n",
              "    }\n",
              "\n",
              "    .dataframe tbody tr th {\n",
              "        vertical-align: top;\n",
              "    }\n",
              "\n",
              "    .dataframe thead th {\n",
              "        text-align: right;\n",
              "    }\n",
              "</style>\n",
              "<table border=\"1\" class=\"dataframe\">\n",
              "  <thead>\n",
              "    <tr style=\"text-align: right;\">\n",
              "      <th></th>\n",
              "      <th>Profit</th>\n",
              "    </tr>\n",
              "  </thead>\n",
              "  <tbody>\n",
              "    <tr>\n",
              "      <th>12</th>\n",
              "      <td>141585.52</td>\n",
              "    </tr>\n",
              "    <tr>\n",
              "      <th>4</th>\n",
              "      <td>166187.94</td>\n",
              "    </tr>\n",
              "    <tr>\n",
              "      <th>37</th>\n",
              "      <td>89949.14</td>\n",
              "    </tr>\n",
              "    <tr>\n",
              "      <th>8</th>\n",
              "      <td>152211.77</td>\n",
              "    </tr>\n",
              "    <tr>\n",
              "      <th>3</th>\n",
              "      <td>182901.99</td>\n",
              "    </tr>\n",
              "    <tr>\n",
              "      <th>6</th>\n",
              "      <td>156122.51</td>\n",
              "    </tr>\n",
              "    <tr>\n",
              "      <th>41</th>\n",
              "      <td>77798.83</td>\n",
              "    </tr>\n",
              "    <tr>\n",
              "      <th>46</th>\n",
              "      <td>49490.75</td>\n",
              "    </tr>\n",
              "    <tr>\n",
              "      <th>47</th>\n",
              "      <td>42559.73</td>\n",
              "    </tr>\n",
              "    <tr>\n",
              "      <th>15</th>\n",
              "      <td>129917.04</td>\n",
              "    </tr>\n",
              "    <tr>\n",
              "      <th>9</th>\n",
              "      <td>149759.96</td>\n",
              "    </tr>\n",
              "    <tr>\n",
              "      <th>16</th>\n",
              "      <td>126992.93</td>\n",
              "    </tr>\n",
              "    <tr>\n",
              "      <th>24</th>\n",
              "      <td>108552.04</td>\n",
              "    </tr>\n",
              "    <tr>\n",
              "      <th>34</th>\n",
              "      <td>96712.80</td>\n",
              "    </tr>\n",
              "    <tr>\n",
              "      <th>31</th>\n",
              "      <td>97483.56</td>\n",
              "    </tr>\n",
              "    <tr>\n",
              "      <th>0</th>\n",
              "      <td>192261.83</td>\n",
              "    </tr>\n",
              "    <tr>\n",
              "      <th>44</th>\n",
              "      <td>65200.33</td>\n",
              "    </tr>\n",
              "    <tr>\n",
              "      <th>27</th>\n",
              "      <td>105008.31</td>\n",
              "    </tr>\n",
              "    <tr>\n",
              "      <th>33</th>\n",
              "      <td>96778.92</td>\n",
              "    </tr>\n",
              "    <tr>\n",
              "      <th>5</th>\n",
              "      <td>156991.12</td>\n",
              "    </tr>\n",
              "    <tr>\n",
              "      <th>29</th>\n",
              "      <td>101004.64</td>\n",
              "    </tr>\n",
              "    <tr>\n",
              "      <th>11</th>\n",
              "      <td>144259.40</td>\n",
              "    </tr>\n",
              "    <tr>\n",
              "      <th>36</th>\n",
              "      <td>90708.19</td>\n",
              "    </tr>\n",
              "    <tr>\n",
              "      <th>1</th>\n",
              "      <td>191792.06</td>\n",
              "    </tr>\n",
              "    <tr>\n",
              "      <th>21</th>\n",
              "      <td>111313.02</td>\n",
              "    </tr>\n",
              "    <tr>\n",
              "      <th>2</th>\n",
              "      <td>191050.39</td>\n",
              "    </tr>\n",
              "    <tr>\n",
              "      <th>43</th>\n",
              "      <td>69758.98</td>\n",
              "    </tr>\n",
              "    <tr>\n",
              "      <th>35</th>\n",
              "      <td>96479.51</td>\n",
              "    </tr>\n",
              "    <tr>\n",
              "      <th>23</th>\n",
              "      <td>108733.99</td>\n",
              "    </tr>\n",
              "    <tr>\n",
              "      <th>40</th>\n",
              "      <td>78239.91</td>\n",
              "    </tr>\n",
              "    <tr>\n",
              "      <th>10</th>\n",
              "      <td>146121.95</td>\n",
              "    </tr>\n",
              "    <tr>\n",
              "      <th>22</th>\n",
              "      <td>110352.25</td>\n",
              "    </tr>\n",
              "    <tr>\n",
              "      <th>18</th>\n",
              "      <td>124266.90</td>\n",
              "    </tr>\n",
              "    <tr>\n",
              "      <th>49</th>\n",
              "      <td>14681.40</td>\n",
              "    </tr>\n",
              "    <tr>\n",
              "      <th>20</th>\n",
              "      <td>118474.03</td>\n",
              "    </tr>\n",
              "    <tr>\n",
              "      <th>7</th>\n",
              "      <td>155752.60</td>\n",
              "    </tr>\n",
              "    <tr>\n",
              "      <th>42</th>\n",
              "      <td>71498.49</td>\n",
              "    </tr>\n",
              "    <tr>\n",
              "      <th>14</th>\n",
              "      <td>132602.65</td>\n",
              "    </tr>\n",
              "    <tr>\n",
              "      <th>28</th>\n",
              "      <td>103282.38</td>\n",
              "    </tr>\n",
              "    <tr>\n",
              "      <th>38</th>\n",
              "      <td>81229.06</td>\n",
              "    </tr>\n",
              "  </tbody>\n",
              "</table>\n",
              "</div>"
            ],
            "text/plain": [
              "       Profit\n",
              "12  141585.52\n",
              "4   166187.94\n",
              "37   89949.14\n",
              "8   152211.77\n",
              "3   182901.99\n",
              "6   156122.51\n",
              "41   77798.83\n",
              "46   49490.75\n",
              "47   42559.73\n",
              "15  129917.04\n",
              "9   149759.96\n",
              "16  126992.93\n",
              "24  108552.04\n",
              "34   96712.80\n",
              "31   97483.56\n",
              "0   192261.83\n",
              "44   65200.33\n",
              "27  105008.31\n",
              "33   96778.92\n",
              "5   156991.12\n",
              "29  101004.64\n",
              "11  144259.40\n",
              "36   90708.19\n",
              "1   191792.06\n",
              "21  111313.02\n",
              "2   191050.39\n",
              "43   69758.98\n",
              "35   96479.51\n",
              "23  108733.99\n",
              "40   78239.91\n",
              "10  146121.95\n",
              "22  110352.25\n",
              "18  124266.90\n",
              "49   14681.40\n",
              "20  118474.03\n",
              "7   155752.60\n",
              "42   71498.49\n",
              "14  132602.65\n",
              "28  103282.38\n",
              "38   81229.06"
            ]
          },
          "metadata": {},
          "execution_count": 116
        }
      ]
    },
    {
      "cell_type": "code",
      "metadata": {
        "colab": {
          "base_uri": "https://localhost:8080/",
          "height": 363
        },
        "id": "M2uYIGEjW7MC",
        "outputId": "54236ef5-cb86-425e-af13-1e1502f9c148"
      },
      "source": [
        "y_test"
      ],
      "execution_count": null,
      "outputs": [
        {
          "output_type": "execute_result",
          "data": {
            "text/html": [
              "<div>\n",
              "<style scoped>\n",
              "    .dataframe tbody tr th:only-of-type {\n",
              "        vertical-align: middle;\n",
              "    }\n",
              "\n",
              "    .dataframe tbody tr th {\n",
              "        vertical-align: top;\n",
              "    }\n",
              "\n",
              "    .dataframe thead th {\n",
              "        text-align: right;\n",
              "    }\n",
              "</style>\n",
              "<table border=\"1\" class=\"dataframe\">\n",
              "  <thead>\n",
              "    <tr style=\"text-align: right;\">\n",
              "      <th></th>\n",
              "      <th>Profit</th>\n",
              "    </tr>\n",
              "  </thead>\n",
              "  <tbody>\n",
              "    <tr>\n",
              "      <th>13</th>\n",
              "      <td>134307.35</td>\n",
              "    </tr>\n",
              "    <tr>\n",
              "      <th>39</th>\n",
              "      <td>81005.76</td>\n",
              "    </tr>\n",
              "    <tr>\n",
              "      <th>30</th>\n",
              "      <td>99937.59</td>\n",
              "    </tr>\n",
              "    <tr>\n",
              "      <th>45</th>\n",
              "      <td>64926.08</td>\n",
              "    </tr>\n",
              "    <tr>\n",
              "      <th>17</th>\n",
              "      <td>125370.37</td>\n",
              "    </tr>\n",
              "    <tr>\n",
              "      <th>48</th>\n",
              "      <td>35673.41</td>\n",
              "    </tr>\n",
              "    <tr>\n",
              "      <th>26</th>\n",
              "      <td>105733.54</td>\n",
              "    </tr>\n",
              "    <tr>\n",
              "      <th>25</th>\n",
              "      <td>107404.34</td>\n",
              "    </tr>\n",
              "    <tr>\n",
              "      <th>32</th>\n",
              "      <td>97427.84</td>\n",
              "    </tr>\n",
              "    <tr>\n",
              "      <th>19</th>\n",
              "      <td>122776.86</td>\n",
              "    </tr>\n",
              "  </tbody>\n",
              "</table>\n",
              "</div>"
            ],
            "text/plain": [
              "       Profit\n",
              "13  134307.35\n",
              "39   81005.76\n",
              "30   99937.59\n",
              "45   64926.08\n",
              "17  125370.37\n",
              "48   35673.41\n",
              "26  105733.54\n",
              "25  107404.34\n",
              "32   97427.84\n",
              "19  122776.86"
            ]
          },
          "metadata": {},
          "execution_count": 117
        }
      ]
    },
    {
      "cell_type": "code",
      "metadata": {
        "id": "BGHt5_y4W7Og"
      },
      "source": [
        "reg = LinearRegression()"
      ],
      "execution_count": null,
      "outputs": []
    },
    {
      "cell_type": "code",
      "metadata": {
        "colab": {
          "base_uri": "https://localhost:8080/"
        },
        "id": "PeyetVwjW7RJ",
        "outputId": "fbd43e74-c397-4f9a-d4e6-ef78dcdfa531"
      },
      "source": [
        "reg.fit(x,y)\n",
        "print(reg.intercept_) \n",
        "print(reg.coef_)"
      ],
      "execution_count": null,
      "outputs": [
        {
          "output_type": "stream",
          "name": "stdout",
          "text": [
            "[50177.64442285]\n",
            "[[ 8.06023114e-01 -2.70043196e-02  2.69798610e-02 -5.23005912e+01\n",
            "   1.46488202e+02 -9.41876104e+01]]\n"
          ]
        }
      ]
    },
    {
      "cell_type": "code",
      "metadata": {
        "colab": {
          "base_uri": "https://localhost:8080/"
        },
        "id": "KqNMiSSBW7VZ",
        "outputId": "3b817df6-58e3-4490-8a58-30a7e313ec31"
      },
      "source": [
        "y_pred = reg.predict(x)\n",
        "print(y_pred)"
      ],
      "execution_count": null,
      "outputs": [
        {
          "output_type": "stream",
          "name": "stdout",
          "text": [
            "[[192390.57136321]\n",
            " [189071.32010494]\n",
            " [182276.18673283]\n",
            " [173584.97618975]\n",
            " [172277.13381666]\n",
            " [163473.8071184 ]\n",
            " [158099.29278417]\n",
            " [160155.64464939]\n",
            " [151634.74332631]\n",
            " [154829.66252708]\n",
            " [135664.64259063]\n",
            " [135528.60078159]\n",
            " [129282.91780691]\n",
            " [127431.24898632]\n",
            " [149694.3827755 ]\n",
            " [146143.63551378]\n",
            " [116854.0745287 ]\n",
            " [130085.40993359]\n",
            " [129149.72574273]\n",
            " [115594.18840731]\n",
            " [116570.73444001]\n",
            " [117201.50508975]\n",
            " [114833.30513844]\n",
            " [110123.79610587]\n",
            " [113294.37345154]\n",
            " [102200.26891867]\n",
            " [110765.3011688 ]\n",
            " [114279.80403012]\n",
            " [101818.58738693]\n",
            " [101721.04202941]\n",
            " [ 99629.0105373 ]\n",
            " [ 97617.29632021]\n",
            " [ 98988.23660304]\n",
            " [ 98061.35894838]\n",
            " [ 88974.70416296]\n",
            " [ 90420.00960609]\n",
            " [ 75423.09286561]\n",
            " [ 89577.70222194]\n",
            " [ 69606.52160902]\n",
            " [ 83684.9760399 ]\n",
            " [ 74762.74617648]\n",
            " [ 74956.31104907]\n",
            " [ 70575.99371382]\n",
            " [ 60100.2682187 ]\n",
            " [ 64585.14721293]\n",
            " [ 47588.36470994]\n",
            " [ 56272.99268497]\n",
            " [ 46468.23200485]\n",
            " [ 49123.07308284]\n",
            " [ 48185.0387926 ]]\n"
          ]
        }
      ]
    },
    {
      "cell_type": "code",
      "metadata": {
        "colab": {
          "base_uri": "https://localhost:8080/"
        },
        "id": "VFM5RuwYW7Xp",
        "outputId": "da613d47-32b9-4d5f-fc7f-e28f6a743286"
      },
      "source": [
        "rmse = np.sqrt((mean_squared_error(y_pred,y)))\n",
        "print(rmse)"
      ],
      "execution_count": null,
      "outputs": [
        {
          "output_type": "stream",
          "name": "stdout",
          "text": [
            "8854.761029414494\n"
          ]
        }
      ]
    },
    {
      "cell_type": "code",
      "metadata": {
        "colab": {
          "base_uri": "https://localhost:8080/"
        },
        "id": "X7oGJZNPa-uK",
        "outputId": "1403ba15-e2d9-4373-b25e-ff006947e198"
      },
      "source": [
        "r2score = reg.score(x,y)\n",
        "print(r2score)"
      ],
      "execution_count": null,
      "outputs": [
        {
          "output_type": "stream",
          "name": "stdout",
          "text": [
            "0.9507524843355148\n"
          ]
        }
      ]
    }
  ]
}