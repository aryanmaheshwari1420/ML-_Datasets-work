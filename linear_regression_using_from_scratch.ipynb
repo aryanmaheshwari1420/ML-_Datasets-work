{
  "nbformat": 4,
  "nbformat_minor": 0,
  "metadata": {
    "colab": {
      "name": "linear regression using from scratch",
      "provenance": [],
      "collapsed_sections": []
    },
    "kernelspec": {
      "name": "python3",
      "display_name": "Python 3"
    },
    "language_info": {
      "name": "python"
    }
  },
  "cells": [
    {
      "cell_type": "code",
      "metadata": {
        "colab": {
          "base_uri": "https://localhost:8080/"
        },
        "id": "MwyBUDc0ruff",
        "outputId": "d98027dc-8e53-4538-e5fc-9f0b75467b24"
      },
      "source": [
        "x1 = 3\n",
        "y2 = 10\n",
        "x2 = 9\n",
        "y1 = 5\n",
        "\n",
        "m = (y2-y1) / (x2 -x1)\n",
        "print(m)"
      ],
      "execution_count": null,
      "outputs": [
        {
          "output_type": "stream",
          "name": "stdout",
          "text": [
            "0.8333333333333334\n"
          ]
        }
      ]
    },
    {
      "cell_type": "code",
      "metadata": {
        "colab": {
          "base_uri": "https://localhost:8080/"
        },
        "id": "QwHl2W1_t0gh",
        "outputId": "d3d1d4f4-6714-4841-dbe5-28c47e06c310"
      },
      "source": [
        "c= y1 - m*x1\n",
        "print(c)"
      ],
      "execution_count": null,
      "outputs": [
        {
          "output_type": "stream",
          "name": "stdout",
          "text": [
            "2.5\n"
          ]
        }
      ]
    },
    {
      "cell_type": "code",
      "metadata": {
        "colab": {
          "base_uri": "https://localhost:8080/"
        },
        "id": "-1NROPvFuW9u",
        "outputId": "add29515-3167-48c3-c972-e5e7d1123116"
      },
      "source": [
        "print(\"y = {0}*x +{1}\".format(m,c))"
      ],
      "execution_count": null,
      "outputs": [
        {
          "output_type": "stream",
          "name": "stdout",
          "text": [
            "y = 0.8333333333333334*x +2.5\n"
          ]
        }
      ]
    },
    {
      "cell_type": "code",
      "metadata": {
        "colab": {
          "base_uri": "https://localhost:8080/"
        },
        "id": "kxoQl_ZGwC7F",
        "outputId": "963a2eb2-213e-4c9a-b99a-293875c33b36"
      },
      "source": [
        "import matplotlib.pyplot as plt\n",
        "import numpy as np\n",
        "x = [171,151,124,134,156]\n",
        "y = [80,60,45,50,65]\n",
        "\n",
        "meanof_x = np.mean(x)\n",
        "print(meanof_x)\n",
        "\n",
        "meanof_y = np.mean(y)\n",
        "print(meanof_y)\n",
        "\n"
      ],
      "execution_count": null,
      "outputs": [
        {
          "output_type": "stream",
          "name": "stdout",
          "text": [
            "147.2\n",
            "60.0\n"
          ]
        }
      ]
    },
    {
      "cell_type": "code",
      "metadata": {
        "colab": {
          "base_uri": "https://localhost:8080/"
        },
        "id": "rWWspYJJxHq2",
        "outputId": "d38c1139-62af-4d22-e6f2-97dae79032db"
      },
      "source": [
        "n = len(x)\n",
        "print(n)"
      ],
      "execution_count": null,
      "outputs": [
        {
          "output_type": "stream",
          "name": "stdout",
          "text": [
            "5\n"
          ]
        }
      ]
    },
    {
      "cell_type": "code",
      "metadata": {
        "id": "xW14FViNxIUd"
      },
      "source": [
        "num = 0\n",
        "den = 0"
      ],
      "execution_count": null,
      "outputs": []
    },
    {
      "cell_type": "code",
      "metadata": {
        "colab": {
          "base_uri": "https://localhost:8080/"
        },
        "id": "VyloRgpKxI4l",
        "outputId": "46391fda-0679-4431-8f6f-c7e4febbe2f5"
      },
      "source": [
        "for i in range(0,n):\n",
        "  num+= (x[i]- meanof_x)*(y[i] - meanof_y)\n",
        "  den+= (x[i]- meanof_x)**2\n",
        "\n",
        "m = num/den\n",
        "c = meanof_y - m*meanof_x  \n",
        "\n",
        "print(m)\n",
        "print(c)\n"
      ],
      "execution_count": null,
      "outputs": [
        {
          "output_type": "stream",
          "name": "stdout",
          "text": [
            "0.7295010213014298\n",
            "-47.38255033557046\n"
          ]
        }
      ]
    },
    {
      "cell_type": "code",
      "metadata": {
        "colab": {
          "base_uri": "https://localhost:8080/",
          "height": 283
        },
        "id": "5320XTbWyujF",
        "outputId": "b0d9e40d-19a0-4866-c58b-321acf16a296"
      },
      "source": [
        "plt.scatter(x,y,color='r',marker='o')\n",
        "plt.plot(x,y,)\n"
      ],
      "execution_count": null,
      "outputs": [
        {
          "output_type": "execute_result",
          "data": {
            "text/plain": [
              "<matplotlib.collections.PathCollection at 0x7fdbaf8dc5d0>"
            ]
          },
          "metadata": {},
          "execution_count": 46
        },
        {
          "output_type": "display_data",
          "data": {
            "image/png": "[encoded data removed]",
            "text/plain": [
              "<Figure size 432x288 with 1 Axes>"
            ]
          },
          "metadata": {
            "needs_background": "light"
          }
        }
      ]
    },
    {
      "cell_type": "code",
      "metadata": {
        "colab": {
          "base_uri": "https://localhost:8080/",
          "height": 283
        },
        "id": "BKk7PLfJ3KRY",
        "outputId": "a8aca831-b246-454f-9753-377fab5ff5f5"
      },
      "source": [
        "y_list = []\n",
        "x = [165,155,122,136]\n",
        "n = len(x)\n",
        "for i in range(0,n):\n",
        "  y_list.append(m*x[i]+c)\n",
        "plt.plot(x,y_list,color='r')\n",
        "plt.scatter(x,y_list,color='r')\n"
      ],
      "execution_count": null,
      "outputs": [
        {
          "output_type": "execute_result",
          "data": {
            "text/plain": [
              "<matplotlib.collections.PathCollection at 0x7fdbaf52d490>"
            ]
          },
          "metadata": {},
          "execution_count": 61
        },
        {
          "output_type": "display_data",
          "data": {
            "image/png": "[encoded data removed]",
            "text/plain": [
              "<Figure size 432x288 with 1 Axes>"
            ]
          },
          "metadata": {
            "needs_background": "light"
          }
        }
      ]
    }
  ]
}