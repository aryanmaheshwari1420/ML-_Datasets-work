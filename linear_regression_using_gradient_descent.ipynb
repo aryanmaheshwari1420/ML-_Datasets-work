{
  "nbformat": 4,
  "nbformat_minor": 0,
  "metadata": {
    "colab": {
      "name": "linear_regression using gradient descent",
      "provenance": []
    },
    "kernelspec": {
      "name": "python3",
      "display_name": "Python 3"
    },
    "language_info": {
      "name": "python"
    }
  },
  "cells": [
    {
      "cell_type": "code",
      "metadata": {
        "id": "KyVZCexaZ8It"
      },
      "source": [
        "import numpy as np\n",
        "import pandas as pd\n",
        "import matplotlib.pyplot as plt\n",
        "import time\n",
        "\n",
        "class GradientDescentLinearRegression:\n",
        "    def __init__(self, learning_rate=0.001, iterations=500):\n",
        "        self.learning_rate, self.iterations = learning_rate, iterations\n",
        "    \n",
        "    def fit(self, X, y):\n",
        "        b0 = 0\n",
        "        b1 = 0\n",
        "        n = X.shape[0]\n",
        "        for _ in range(self.iterations):\n",
        "            b0_deri = np.sum(b1*X + b0 - y)/n\n",
        "            b1_deri = np.sum(X*((b1*X + b0) - y))/n\n",
        "            b0 = b0 - (self.learning_rate*b0_deri)\n",
        "            b1 = b1 - (self.learning_rate*b1_deri)\n",
        "            plt.plot(X,(b0+b1*X))\n",
        "        self.b0, self.b1 = b0, b1\n",
        "        \n",
        "    \n",
        "    def predict(self, X):\n",
        "        return self.b0 + self.b1*X\n",
        "    \n",
        "    def rmse(self, X): \n",
        "        rmse = 0\n",
        "        n = X.shape[0]\n",
        "        for i in range(n):\n",
        "            y_pred = self.predict(X[i])\n",
        "            rmse += (y_pred - y[i])**2\n",
        "        rmse = np.sqrt(rmse/n)\n",
        "        return rmse"
      ],
      "execution_count": null,
      "outputs": []
    },
    {
      "cell_type": "code",
      "metadata": {
        "colab": {
          "base_uri": "https://localhost:8080/"
        },
        "id": "_uCvMFQbaDbY",
        "outputId": "8c79d476-1933-48ac-ee03-a15c0cd62b69"
      },
      "source": [
        "data = pd.read_csv('headbrain.csv')\n",
        "\n",
        "# Collecting X and y\n",
        "X = data['Head Size(cm^3)'].values/1000\n",
        "y = data['Brain Weight(grams)'].values/1000\n",
        "print(X)\n",
        "print(y)\n",
        "\n"
      ],
      "execution_count": null,
      "outputs": [
        {
          "output_type": "stream",
          "name": "stdout",
          "text": [
            "[4.512 3.738 4.261 3.777 4.177 3.585 3.785 3.559 3.613 3.982 3.443 3.993\n",
            " 3.64  4.208 3.832 3.876 3.497 3.466 3.095 4.424 3.878 4.046 3.804 3.71\n",
            " 4.747 4.423 4.036 4.022 3.454 4.175 3.787 3.796 4.103 4.161 4.158 3.814\n",
            " 3.527 3.748 3.334 3.492 3.962 3.505 4.315 3.804 3.863 4.034 4.308 3.165\n",
            " 3.641 3.644 3.891 3.793 4.27  4.063 4.012 3.458 3.89  4.166 3.935 3.669\n",
            " 3.866 3.393 4.442 4.253 3.727 3.329 3.415 3.372 4.43  4.381 4.008 3.858\n",
            " 4.121 4.057 3.824 3.394 3.558 3.362 3.93  3.835 3.83  3.856 3.249 3.577\n",
            " 3.933 3.85  3.309 3.406 3.506 3.907 4.16  3.318 3.662 3.899 3.7   3.779\n",
            " 3.473 3.49  3.654 3.478 3.495 3.834 3.876 3.661 3.618 3.648 4.032 3.399\n",
            " 3.916 4.43  3.695 3.524 3.571 3.594 3.383 3.499 3.589 3.9   4.114 3.937\n",
            " 3.399 4.2   4.488 3.614 4.051 3.782 3.391 3.124 4.053 3.582 3.666 3.532\n",
            " 4.046 3.667 2.857 3.436 3.791 3.302 3.104 3.171 3.572 3.53  3.175 3.438\n",
            " 3.903 3.899 3.401 3.267 3.451 3.09  3.413 3.323 3.68  3.439 3.853 3.156\n",
            " 3.279 3.707 4.006 3.269 3.071 3.779 3.548 3.292 3.497 3.082 3.248 3.358\n",
            " 3.803 3.566 3.145 3.503 3.571 3.724 3.615 3.203 3.609 3.561 3.979 3.533\n",
            " 3.689 3.158 4.005 3.181 3.479 3.642 3.632 3.069 3.394 3.703 3.165 3.354\n",
            " 3.    3.687 3.556 2.773 3.058 3.344 3.493 3.297 3.36  3.228 3.277 3.851\n",
            " 3.067 3.692 3.402 3.995 3.318 2.72  2.937 3.58  2.939 2.989 3.586 3.156\n",
            " 3.246 3.17  3.268 3.389 3.381 2.864 3.74  3.479 3.647 3.716 3.284 4.204\n",
            " 3.735 3.218 3.685 3.704 3.214 3.394 3.233 3.352 3.391]\n",
            "[1.53  1.297 1.335 1.282 1.59  1.3   1.4   1.255 1.355 1.375 1.34  1.38\n",
            " 1.355 1.522 1.208 1.405 1.358 1.292 1.34  1.4   1.357 1.287 1.275 1.27\n",
            " 1.635 1.505 1.49  1.485 1.31  1.42  1.318 1.432 1.364 1.405 1.432 1.207\n",
            " 1.375 1.35  1.236 1.25  1.35  1.32  1.525 1.57  1.34  1.422 1.506 1.215\n",
            " 1.311 1.3   1.224 1.35  1.335 1.39  1.4   1.225 1.31  1.56  1.33  1.222\n",
            " 1.415 1.175 1.33  1.485 1.47  1.135 1.31  1.154 1.51  1.415 1.468 1.39\n",
            " 1.38  1.432 1.24  1.195 1.225 1.188 1.252 1.315 1.245 1.43  1.279 1.245\n",
            " 1.309 1.412 1.12  1.22  1.28  1.44  1.37  1.192 1.23  1.346 1.29  1.165\n",
            " 1.24  1.132 1.242 1.27  1.218 1.43  1.588 1.32  1.29  1.26  1.425 1.226\n",
            " 1.36  1.62  1.31  1.25  1.295 1.29  1.29  1.275 1.25  1.27  1.362 1.3\n",
            " 1.173 1.256 1.44  1.18  1.306 1.35  1.125 1.165 1.312 1.3   1.27  1.335\n",
            " 1.45  1.31  1.027 1.235 1.26  1.165 1.08  1.127 1.27  1.252 1.2   1.29\n",
            " 1.334 1.38  1.14  1.243 1.34  1.168 1.322 1.249 1.321 1.192 1.373 1.17\n",
            " 1.265 1.235 1.302 1.241 1.078 1.52  1.46  1.075 1.28  1.18  1.25  1.19\n",
            " 1.374 1.306 1.202 1.24  1.316 1.28  1.35  1.18  1.21  1.127 1.324 1.21\n",
            " 1.29  1.1   1.28  1.175 1.16  1.205 1.163 1.022 1.243 1.35  1.237 1.204\n",
            " 1.09  1.355 1.25  1.076 1.12  1.22  1.24  1.22  1.095 1.235 1.105 1.405\n",
            " 1.15  1.305 1.22  1.296 1.175 0.955 1.07  1.32  1.06  1.13  1.25  1.225\n",
            " 1.18  1.178 1.142 1.13  1.185 1.012 1.28  1.103 1.408 1.3   1.246 1.38\n",
            " 1.35  1.06  1.35  1.22  1.11  1.215 1.104 1.17  1.12 ]\n"
          ]
        }
      ]
    },
    {
      "cell_type": "code",
      "metadata": {
        "colab": {
          "base_uri": "https://localhost:8080/",
          "height": 231
        },
        "id": "yDM9u9W4aDeA",
        "outputId": "c293fd26-aa8d-4a6c-aa38-90377b8cdd16"
      },
      "source": [
        "clf = GradientDescentLinearRegression()\n",
        "start_time = time_time()\n",
        "clf.fit(X,y)\n",
        "plt.scatter(X,y,color='black')\n",
        "plt.plot(X, clf.predict(X))\n",
        "plt.xlabel('Head Size')\n",
        "plt.ylabel('Brain Weight')\n",
        "plt.title(\"Gradient Descent Linear Regression\")\n",
        "plt.show()\n",
        "#compute rmse\n",
        "rmse = clf.rmse(X)\n",
        "print(\"RMSE\",rmse)\n",
        "Error\n"
      ],
      "execution_count": null,
      "outputs": [
        {
          "output_type": "error",
          "ename": "NameError",
          "evalue": "ignored",
          "traceback": [
            "\u001b[0;31m---------------------------------------------------------------------------\u001b[0m",
            "\u001b[0;31mNameError\u001b[0m                                 Traceback (most recent call last)",
            "\u001b[0;32m<ipython-input-46-2f718547db36>\u001b[0m in \u001b[0;36m<module>\u001b[0;34m()\u001b[0m\n\u001b[1;32m      1\u001b[0m \u001b[0mclf\u001b[0m \u001b[0;34m=\u001b[0m \u001b[0mGradientDescentLinearRegression\u001b[0m\u001b[0;34m(\u001b[0m\u001b[0;34m)\u001b[0m\u001b[0;34m\u001b[0m\u001b[0;34m\u001b[0m\u001b[0m\n\u001b[0;32m----> 2\u001b[0;31m \u001b[0mstart_time\u001b[0m \u001b[0;34m=\u001b[0m \u001b[0mtime_time\u001b[0m\u001b[0;34m(\u001b[0m\u001b[0;34m)\u001b[0m\u001b[0;34m\u001b[0m\u001b[0;34m\u001b[0m\u001b[0m\n\u001b[0m\u001b[1;32m      3\u001b[0m \u001b[0mclf\u001b[0m\u001b[0;34m.\u001b[0m\u001b[0mfit\u001b[0m\u001b[0;34m(\u001b[0m\u001b[0mX\u001b[0m\u001b[0;34m,\u001b[0m\u001b[0my\u001b[0m\u001b[0;34m)\u001b[0m\u001b[0;34m\u001b[0m\u001b[0;34m\u001b[0m\u001b[0m\n\u001b[1;32m      4\u001b[0m \u001b[0mplt\u001b[0m\u001b[0;34m.\u001b[0m\u001b[0mscatter\u001b[0m\u001b[0;34m(\u001b[0m\u001b[0mX\u001b[0m\u001b[0;34m,\u001b[0m\u001b[0my\u001b[0m\u001b[0;34m,\u001b[0m\u001b[0mcolor\u001b[0m\u001b[0;34m=\u001b[0m\u001b[0;34m'black'\u001b[0m\u001b[0;34m)\u001b[0m\u001b[0;34m\u001b[0m\u001b[0;34m\u001b[0m\u001b[0m\n\u001b[1;32m      5\u001b[0m \u001b[0mplt\u001b[0m\u001b[0;34m.\u001b[0m\u001b[0mplot\u001b[0m\u001b[0;34m(\u001b[0m\u001b[0mX\u001b[0m\u001b[0;34m,\u001b[0m \u001b[0mclf\u001b[0m\u001b[0;34m.\u001b[0m\u001b[0mpredict\u001b[0m\u001b[0;34m(\u001b[0m\u001b[0mX\u001b[0m\u001b[0;34m)\u001b[0m\u001b[0;34m)\u001b[0m\u001b[0;34m\u001b[0m\u001b[0;34m\u001b[0m\u001b[0m\n",
            "\u001b[0;31mNameError\u001b[0m: name 'time_time' is not defined"
          ]
        }
      ]
    },
    {
      "cell_type": "code",
      "metadata": {
        "id": "3LrbtZ5ZaDgY"
      },
      "source": [
        "start_time = time_time()\n",
        "print(time_time() - start_time)"
      ],
      "execution_count": null,
      "outputs": []
    },
    {
      "cell_type": "code",
      "metadata": {
        "id": "L8_8EmnjaDi5"
      },
      "source": [
        ""
      ],
      "execution_count": null,
      "outputs": []
    },
    {
      "cell_type": "code",
      "metadata": {
        "id": "_OfiTdceaDlo"
      },
      "source": [
        ""
      ],
      "execution_count": null,
      "outputs": []
    },
    {
      "cell_type": "code",
      "metadata": {
        "id": "0GZJ3ChgaDoQ"
      },
      "source": [
        ""
      ],
      "execution_count": null,
      "outputs": []
    },
    {
      "cell_type": "code",
      "metadata": {
        "id": "UdxlZRm6aCZZ"
      },
      "source": [
        ""
      ],
      "execution_count": null,
      "outputs": []
    },
    {
      "cell_type": "code",
      "metadata": {
        "id": "lkJQBwqmaCcw"
      },
      "source": [
        ""
      ],
      "execution_count": null,
      "outputs": []
    },
    {
      "cell_type": "code",
      "metadata": {
        "id": "DOwmjyDJaCfY"
      },
      "source": [
        ""
      ],
      "execution_count": null,
      "outputs": []
    },
    {
      "cell_type": "code",
      "metadata": {
        "id": "gTsj7ZuUaCh5"
      },
      "source": [
        ""
      ],
      "execution_count": null,
      "outputs": []
    },
    {
      "cell_type": "code",
      "metadata": {
        "id": "u8NvxYVjaCkR"
      },
      "source": [
        ""
      ],
      "execution_count": null,
      "outputs": []
    },
    {
      "cell_type": "code",
      "metadata": {
        "id": "TAuyej8maCmg"
      },
      "source": [
        ""
      ],
      "execution_count": null,
      "outputs": []
    },
    {
      "cell_type": "code",
      "metadata": {
        "id": "IcK8IkzXaCoZ"
      },
      "source": [
        ""
      ],
      "execution_count": null,
      "outputs": []
    }
  ]
}