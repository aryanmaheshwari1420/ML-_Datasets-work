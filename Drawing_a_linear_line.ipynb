{
  "nbformat": 4,
  "nbformat_minor": 0,
  "metadata": {
    "colab": {
      "name": "Drawing a linear line",
      "provenance": [],
      "collapsed_sections": []
    },
    "kernelspec": {
      "name": "python3",
      "display_name": "Python 3"
    },
    "language_info": {
      "name": "python"
    }
  },
  "cells": [
    {
      "cell_type": "code",
      "metadata": {
        "colab": {
          "base_uri": "https://localhost:8080/"
        },
        "id": "MwyBUDc0ruff",
        "outputId": "bf88e372-f41e-4379-a96e-1ef80d67424b"
      },
      "source": [
        "x1 = 3\n",
        "y2 = 10\n",
        "x2 = 9\n",
        "y1 = 5\n",
        "\n",
        "m = (y2-y1) / (x2 -x1)\n",
        "print(m)"
      ],
      "execution_count": null,
      "outputs": [
        {
          "output_type": "stream",
          "name": "stdout",
          "text": [
            "0.8333333333333334\n"
          ]
        }
      ]
    },
    {
      "cell_type": "code",
      "metadata": {
        "colab": {
          "base_uri": "https://localhost:8080/"
        },
        "id": "QwHl2W1_t0gh",
        "outputId": "befeeeb6-9375-486c-fe16-50aca72878e5"
      },
      "source": [
        "c= y1 - m*x1\n",
        "print(c)"
      ],
      "execution_count": null,
      "outputs": [
        {
          "output_type": "stream",
          "name": "stdout",
          "text": [
            "2.5\n"
          ]
        }
      ]
    },
    {
      "cell_type": "code",
      "metadata": {
        "colab": {
          "base_uri": "https://localhost:8080/"
        },
        "id": "-1NROPvFuW9u",
        "outputId": "5b58907f-1e42-45e2-bbc9-a441699737e7"
      },
      "source": [
        "print(\"y = {0}*x +{1}\".format(m,c))"
      ],
      "execution_count": null,
      "outputs": [
        {
          "output_type": "stream",
          "name": "stdout",
          "text": [
            "y = 0.8333333333333334*x +2.5\n"
          ]
        }
      ]
    },
    {
      "cell_type": "code",
      "metadata": {
        "colab": {
          "base_uri": "https://localhost:8080/"
        },
        "id": "kxoQl_ZGwC7F",
        "outputId": "82ec12df-a3b8-43a5-a750-ca3c892e7100"
      },
      "source": [
        "import matplotlib.pyplot as plt\n",
        "import numpy as np\n",
        "x = [171,151,124,134,156]\n",
        "y = [80,60,45,50,65]\n",
        "\n",
        "meanof_x = np.mean(x)\n",
        "print(meanof_x)\n",
        "\n",
        "meanof_y = np.mean(y)\n",
        "print(meanof_y)\n",
        "\n"
      ],
      "execution_count": null,
      "outputs": [
        {
          "output_type": "stream",
          "name": "stdout",
          "text": [
            "147.2\n",
            "60.0\n"
          ]
        }
      ]
    },
    {
      "cell_type": "code",
      "metadata": {
        "colab": {
          "base_uri": "https://localhost:8080/"
        },
        "id": "rWWspYJJxHq2",
        "outputId": "cfcede27-b090-43c7-fffa-2c102a883a3e"
      },
      "source": [
        "n = len(x)\n",
        "print(n)"
      ],
      "execution_count": null,
      "outputs": [
        {
          "output_type": "stream",
          "name": "stdout",
          "text": [
            "5\n"
          ]
        }
      ]
    },
    {
      "cell_type": "code",
      "metadata": {
        "id": "xW14FViNxIUd"
      },
      "source": [
        "num = 0\n",
        "den = 0"
      ],
      "execution_count": null,
      "outputs": []
    },
    {
      "cell_type": "code",
      "metadata": {
        "colab": {
          "base_uri": "https://localhost:8080/"
        },
        "id": "VyloRgpKxI4l",
        "outputId": "d80c69e5-cf52-43d3-efc2-82ae60729625"
      },
      "source": [
        "for i in range(0,n):\n",
        "  num+= (x[i]- meanof_x)*(y[i] - meanof_y)\n",
        "  den+= (x[i]- meanof_x)**2\n",
        "\n",
        "m = num/den\n",
        "c = meanof_y - m*meanof_x  \n",
        "\n",
        "print(m)\n",
        "print(c)\n"
      ],
      "execution_count": null,
      "outputs": [
        {
          "output_type": "stream",
          "name": "stdout",
          "text": [
            "0.7295010213014298\n",
            "-47.38255033557046\n"
          ]
        }
      ]
    },
    {
      "cell_type": "code",
      "metadata": {
        "colab": {
          "base_uri": "https://localhost:8080/",
          "height": 282
        },
        "id": "5320XTbWyujF",
        "outputId": "02a4d4cd-d1c9-405c-db84-712495ffb261"
      },
      "source": [
        "plt.scatter(x,y,color='r',marker='o')\n",
        "plt.plot(x,y,)\n"
      ],
      "execution_count": null,
      "outputs": [
        {
          "output_type": "execute_result",
          "data": {
            "text/plain": [
              "[<matplotlib.lines.Line2D at 0x7f1bb208ccd0>]"
            ]
          },
          "metadata": {},
          "execution_count": 20
        },
        {
          "output_type": "display_data",
          "data": {
            "image/png": "[encoded data removed]",
            "text/plain": [
              "<Figure size 432x288 with 1 Axes>"
            ]
          },
          "metadata": {
            "needs_background": "light"
          }
        }
      ]
    },
    {
      "cell_type": "code",
      "metadata": {
        "colab": {
          "base_uri": "https://localhost:8080/",
          "height": 282
        },
        "id": "BKk7PLfJ3KRY",
        "outputId": "2c07b23d-aa6f-4d0a-c755-477cc34605e8"
      },
      "source": [
        "y_list = []\n",
        "x = [165,155,122,136]\n",
        "n = len(x)\n",
        "for i in range(0,n):\n",
        "  y_list.append(m*x[i]+c)\n",
        "plt.plot(x,y_list,color='r')\n",
        "plt.scatter(x,y_list,color='r')\n"
      ],
      "execution_count": null,
      "outputs": [
        {
          "output_type": "execute_result",
          "data": {
            "text/plain": [
              "<matplotlib.collections.PathCollection at 0x7f1bb208c790>"
            ]
          },
          "metadata": {},
          "execution_count": 21
        },
        {
          "output_type": "display_data",
          "data": {
            "image/png": "[encoded data removed]",
            "text/plain": [
              "<Figure size 432x288 with 1 Axes>"
            ]
          },
          "metadata": {
            "needs_background": "light"
          }
        }
      ]
    }
  ]
}