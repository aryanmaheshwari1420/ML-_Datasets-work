{
  "nbformat": 4,
  "nbformat_minor": 0,
  "metadata": {
    "colab": {
      "name": "Linear Regression (head_brain)",
      "provenance": []
    },
    "kernelspec": {
      "name": "python3",
      "display_name": "Python 3"
    },
    "language_info": {
      "name": "python"
    }
  },
  "cells": [
    {
      "cell_type": "code",
      "metadata": {
        "id": "C4qkLXLjR0Fa"
      },
      "source": [
        "from sklearn.linear_model import LinearRegression\n",
        "from sklearn.metrics import mean_squared_error"
      ],
      "execution_count": null,
      "outputs": []
    },
    {
      "cell_type": "code",
      "metadata": {
        "id": "TsU_x28DTVuA"
      },
      "source": [
        "import pandas as pd\n",
        "import numpy as np"
      ],
      "execution_count": null,
      "outputs": []
    },
    {
      "cell_type": "code",
      "metadata": {
        "id": "MrE30-mwTV1X"
      },
      "source": [
        "data = pd.read_csv('headbrain.csv')"
      ],
      "execution_count": null,
      "outputs": []
    },
    {
      "cell_type": "code",
      "metadata": {
        "colab": {
          "base_uri": "https://localhost:8080/",
          "height": 204
        },
        "id": "1kGGE1jnTV6X",
        "outputId": "a1f9ede5-2503-4e1f-c5f0-4e92a87ee9d5"
      },
      "source": [
        "data.head()"
      ],
      "execution_count": null,
      "outputs": [
        {
          "output_type": "execute_result",
          "data": {
            "text/html": [
              "<div>\n",
              "<style scoped>\n",
              "    .dataframe tbody tr th:only-of-type {\n",
              "        vertical-align: middle;\n",
              "    }\n",
              "\n",
              "    .dataframe tbody tr th {\n",
              "        vertical-align: top;\n",
              "    }\n",
              "\n",
              "    .dataframe thead th {\n",
              "        text-align: right;\n",
              "    }\n",
              "</style>\n",
              "<table border=\"1\" class=\"dataframe\">\n",
              "  <thead>\n",
              "    <tr style=\"text-align: right;\">\n",
              "      <th></th>\n",
              "      <th>Gender</th>\n",
              "      <th>Age Range</th>\n",
              "      <th>Head Size(cm^3)</th>\n",
              "      <th>Brain Weight(grams)</th>\n",
              "    </tr>\n",
              "  </thead>\n",
              "  <tbody>\n",
              "    <tr>\n",
              "      <th>0</th>\n",
              "      <td>1</td>\n",
              "      <td>1</td>\n",
              "      <td>4512</td>\n",
              "      <td>1530</td>\n",
              "    </tr>\n",
              "    <tr>\n",
              "      <th>1</th>\n",
              "      <td>1</td>\n",
              "      <td>1</td>\n",
              "      <td>3738</td>\n",
              "      <td>1297</td>\n",
              "    </tr>\n",
              "    <tr>\n",
              "      <th>2</th>\n",
              "      <td>1</td>\n",
              "      <td>1</td>\n",
              "      <td>4261</td>\n",
              "      <td>1335</td>\n",
              "    </tr>\n",
              "    <tr>\n",
              "      <th>3</th>\n",
              "      <td>1</td>\n",
              "      <td>1</td>\n",
              "      <td>3777</td>\n",
              "      <td>1282</td>\n",
              "    </tr>\n",
              "    <tr>\n",
              "      <th>4</th>\n",
              "      <td>1</td>\n",
              "      <td>1</td>\n",
              "      <td>4177</td>\n",
              "      <td>1590</td>\n",
              "    </tr>\n",
              "  </tbody>\n",
              "</table>\n",
              "</div>"
            ],
            "text/plain": [
              "   Gender  Age Range  Head Size(cm^3)  Brain Weight(grams)\n",
              "0       1          1             4512                 1530\n",
              "1       1          1             3738                 1297\n",
              "2       1          1             4261                 1335\n",
              "3       1          1             3777                 1282\n",
              "4       1          1             4177                 1590"
            ]
          },
          "metadata": {},
          "execution_count": 104
        }
      ]
    },
    {
      "cell_type": "code",
      "metadata": {
        "id": "5niEbLS-TV8_"
      },
      "source": [
        "x = data[['Gender','Age Range','Head Size(cm^3)']]"
      ],
      "execution_count": null,
      "outputs": []
    },
    {
      "cell_type": "code",
      "metadata": {
        "id": "opE9A5NOTV_P"
      },
      "source": [
        "y = data['Brain Weight(grams)']"
      ],
      "execution_count": null,
      "outputs": []
    },
    {
      "cell_type": "code",
      "metadata": {
        "id": "gAFY7ODaTWBf",
        "colab": {
          "base_uri": "https://localhost:8080/"
        },
        "outputId": "b52beccd-33cc-4dd1-e170-67fb1bbf6c6b"
      },
      "source": [
        "print(x)"
      ],
      "execution_count": null,
      "outputs": [
        {
          "output_type": "stream",
          "name": "stdout",
          "text": [
            "     Gender  Age Range  Head Size(cm^3)\n",
            "0         1          1             4512\n",
            "1         1          1             3738\n",
            "2         1          1             4261\n",
            "3         1          1             3777\n",
            "4         1          1             4177\n",
            "..      ...        ...              ...\n",
            "232       2          2             3214\n",
            "233       2          2             3394\n",
            "234       2          2             3233\n",
            "235       2          2             3352\n",
            "236       2          2             3391\n",
            "\n",
            "[237 rows x 3 columns]\n"
          ]
        }
      ]
    },
    {
      "cell_type": "code",
      "metadata": {
        "id": "85XDTgSxTWDW",
        "colab": {
          "base_uri": "https://localhost:8080/"
        },
        "outputId": "9ca8f2c3-d255-4c20-be0a-d1477a861d7f"
      },
      "source": [
        "print(y)"
      ],
      "execution_count": null,
      "outputs": [
        {
          "output_type": "stream",
          "name": "stdout",
          "text": [
            "0      1530\n",
            "1      1297\n",
            "2      1335\n",
            "3      1282\n",
            "4      1590\n",
            "       ... \n",
            "232    1110\n",
            "233    1215\n",
            "234    1104\n",
            "235    1170\n",
            "236    1120\n",
            "Name: Brain Weight(grams), Length: 237, dtype: int64\n"
          ]
        }
      ]
    },
    {
      "cell_type": "code",
      "metadata": {
        "id": "dDSTMDZyTWFf"
      },
      "source": [
        "reg = LinearRegression()"
      ],
      "execution_count": null,
      "outputs": []
    },
    {
      "cell_type": "code",
      "metadata": {
        "id": "74NA6zG-TWHX",
        "colab": {
          "base_uri": "https://localhost:8080/"
        },
        "outputId": "903ec7a9-e904-4933-b378-cc18b7e8df6a"
      },
      "source": [
        "reg.fit(x,y)\n",
        "print(reg.intercept_) \n",
        "print(reg.coef_)"
      ],
      "execution_count": null,
      "outputs": [
        {
          "output_type": "stream",
          "name": "stdout",
          "text": [
            "464.5628108859039\n",
            "[-22.5432537  -23.96844543   0.24421175]\n"
          ]
        }
      ]
    },
    {
      "cell_type": "code",
      "metadata": {
        "id": "BGKovoWXTWJW",
        "colab": {
          "base_uri": "https://localhost:8080/"
        },
        "outputId": "be255ffa-3eca-46e7-9f72-36d5f161093b"
      },
      "source": [
        "y_pred = reg.predict(x)\n",
        "print(y_pred)"
      ],
      "execution_count": null,
      "outputs": [
        {
          "output_type": "stream",
          "name": "stdout",
          "text": [
            "[1519.93452386 1330.91463003 1458.63737483 1340.43888825 1438.1235879\n",
            " 1293.55023241 1342.39258224 1287.20072693 1300.38816139 1390.50229682\n",
            " 1258.87216403 1393.18862606 1306.98187861 1445.69415212 1353.87053445\n",
            " 1364.61585141 1272.05959849 1264.48903426 1173.88647533 1498.44388994\n",
            " 1365.10427491 1406.13184876 1347.03260547 1324.07670105 1577.32428491\n",
            " 1498.19967819 1403.68973127 1400.27076679 1261.55849328 1437.6351644\n",
            " 1342.88100574 1345.07891148 1420.05191847 1434.21619992 1433.48356467\n",
            " 1349.47472296 1279.38595096 1333.35674752 1232.25308338 1270.83853974\n",
            " 1385.61806184 1274.01329248 1471.82480928 1347.03260547 1361.44109867\n",
            " 1403.20130777 1470.11532704 1190.98129777 1307.22609036 1307.95872561\n",
            " 1368.27902765 1344.34627623 1460.83528057 1410.2834485  1397.82864929\n",
            " 1262.53534027 1368.0348159  1411.46881323 1355.05589918 1290.09557391\n",
            " 1338.20528849 1222.69313114 1478.87125599 1432.7152354  1304.25985536\n",
            " 1207.0635792  1228.06578963 1217.56468441 1475.940715   1463.97433929\n",
            " 1372.88335686 1336.25159449 1400.47928452 1384.84973257 1327.94839502\n",
            " 1222.93734289 1262.98806975 1215.12256692 1353.83484043 1330.63472426\n",
            " 1329.41366552 1335.763171   1187.52663927 1267.62809299 1354.56747568\n",
            " 1334.2979005  1202.17934422 1225.86788388 1250.2890588  1348.2179702\n",
            " 1410.00354273 1204.37724996 1288.38609166 1346.26427621 1297.66613813\n",
            " 1316.95886631 1242.23007108 1246.38167081 1286.43239767 1243.45112982\n",
            " 1247.60272956 1330.39051251 1340.64740598 1288.14187991 1277.6407747\n",
            " 1284.96712717 1378.74443884 1224.15840164 1350.41587594 1475.940715\n",
            " 1296.44507938 1254.68487028 1266.16282249 1271.77969272 1220.25101365\n",
            " 1248.57957655 1270.55863398 1346.50848796 1398.76980227 1355.54432268\n",
            " 1224.15840164 1419.7720127  1490.10499645 1276.6639277  1383.38446208\n",
            " 1317.69150156 1222.20470765 1157.00017063 1383.87288558 1268.84915173\n",
            " 1289.36293866 1256.63856428 1382.16340333 1289.60715041 1093.22082534\n",
            " 1234.61942809 1321.31459904 1201.89505371 1153.54112738 1169.90331457\n",
            " 1267.83222597 1257.57533251 1170.88016157 1235.10785159 1348.66631494\n",
            " 1347.68946794 1226.07201687 1193.34764249 1238.28260433 1150.12216289\n",
            " 1229.00255786 1207.02350044 1294.20709488 1235.35206334 1336.45572748\n",
            " 1166.24013833 1196.27818348 1300.80081211 1373.8201251  1193.83606599\n",
            " 1145.48213966 1318.38405805 1261.971144   1199.45293622 1249.51634479\n",
            " 1148.1684689  1188.70761925 1215.57091166 1324.24514003 1266.36695548\n",
            " 1163.55380909 1250.98161528 1267.58801423 1304.95241184 1278.33333119\n",
            " 1177.71809054 1276.86806069 1265.14589673 1367.22640787 1258.30796776\n",
            " 1296.40500062 1166.72856183 1373.57591335 1172.34543206 1245.12053331\n",
            " 1284.92704841 1282.48493092 1121.02527073 1200.3940892  1275.85551968\n",
            " 1144.46959864 1190.62561923 1104.17466004 1271.94813169 1239.95639256\n",
            " 1048.73859298 1118.33894149 1188.18350174 1224.57105236 1176.70554953\n",
            " 1192.09088972 1159.85493884 1171.82131455 1311.99885855 1120.53684723\n",
            " 1273.16919044 1202.34778319 1347.16535043 1181.83399626 1035.79537028\n",
            " 1088.78931984 1245.81747454 1089.27774334 1101.48833079 1247.28274503\n",
            " 1142.2716929  1164.25075032 1145.69065739 1169.6234088  1199.17303045\n",
            " 1197.21933646 1070.96186215 1284.8913544  1221.15208787 1262.17966173\n",
            " 1279.03027242 1173.53079679 1398.205606   1283.67029565 1157.41282135\n",
            " 1271.45970819 1276.09973143 1156.43597435 1200.3940892  1161.07599758\n",
            " 1190.13719573 1199.66145395]\n"
          ]
        }
      ]
    },
    {
      "cell_type": "code",
      "metadata": {
        "id": "L05wymBuTWLf",
        "colab": {
          "base_uri": "https://localhost:8080/"
        },
        "outputId": "449c1ac9-cc63-4f91-a065-6d1c33cfd5f6"
      },
      "source": [
        "rmse = np.sqrt((mean_squared_error(y_pred,y)))\n",
        "print(rmse)"
      ],
      "execution_count": null,
      "outputs": [
        {
          "output_type": "stream",
          "name": "stdout",
          "text": [
            "70.75573353042628\n"
          ]
        }
      ]
    },
    {
      "cell_type": "code",
      "metadata": {
        "id": "PSh0A9k_TWNn",
        "colab": {
          "base_uri": "https://localhost:8080/"
        },
        "outputId": "83d696c7-80ea-402d-fa47-892e91e5d2eb"
      },
      "source": [
        "r2score = reg.score(x,y)\n",
        "print(r2score)"
      ],
      "execution_count": null,
      "outputs": [
        {
          "output_type": "stream",
          "name": "stdout",
          "text": [
            "0.6528346387526655\n"
          ]
        }
      ]
    },
    {
      "cell_type": "code",
      "metadata": {
        "id": "8hXjSL0uTWP2"
      },
      "source": [
        ""
      ],
      "execution_count": null,
      "outputs": []
    },
    {
      "cell_type": "code",
      "metadata": {
        "id": "3U6H1oviTWSI"
      },
      "source": [
        ""
      ],
      "execution_count": null,
      "outputs": []
    },
    {
      "cell_type": "code",
      "metadata": {
        "id": "I2L_EFaRTWUw"
      },
      "source": [
        ""
      ],
      "execution_count": null,
      "outputs": []
    },
    {
      "cell_type": "markdown",
      "metadata": {
        "id": "S91-wqpDSyyH"
      },
      "source": [
        "# New section"
      ]
    }
  ]
}